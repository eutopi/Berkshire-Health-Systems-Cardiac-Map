{
  "nbformat": 4,
  "nbformat_minor": 0,
  "metadata": {
    "colab": {
      "name": "SupervisedClassifiers.ipynb",
      "provenance": [],
      "collapsed_sections": [
        "9EiwpTtoI_xM"
      ],
      "toc_visible": true
    },
    "kernelspec": {
      "name": "python3",
      "display_name": "Python 3"
    }
  },
  "cells": [
    {
      "cell_type": "markdown",
      "metadata": {
        "id": "CmX4AP1pHw15",
        "colab_type": "text"
      },
      "source": [
        "# Supervised Classifiers\n",
        "Classification models for assigning patients to clinics under a supervised setting"
      ]
    },
    {
      "cell_type": "code",
      "metadata": {
        "id": "cBFoALRDHq8U",
        "colab_type": "code",
        "colab": {}
      },
      "source": [
        "# Import libraries\n",
        "import numpy as np\n",
        "import pandas as pd\n",
        "from sklearn import metrics\n",
        "from sklearn.metrics import mean_squared_error\n",
        "import matplotlib\n",
        "import matplotlib.pyplot as plt\n",
        "import matplotlib.cm as cmx\n",
        "import matplotlib.colors as colors\n",
        "import scipy as sp\n",
        "%matplotlib inline\n",
        "\n",
        "from collections import Counter\n",
        "\n",
        "from sklearn.model_selection import KFold\n",
        "from sklearn.model_selection import cross_val_score\n",
        "\n",
        "from sklearn.linear_model import LogisticRegression\n",
        "from sklearn.linear_model import LogisticRegressionCV\n",
        "from sklearn.svm import SVC\n",
        "from sklearn.naive_bayes import MultinomialNB\n",
        "from sklearn.ensemble import RandomForestClassifier\n",
        "from sklearn.neighbors import KNeighborsClassifier as KNN\n",
        "\n",
        "import xgboost as xgb\n",
        "from xgboost import XGBClassifier\n",
        "\n",
        "from sklearn.model_selection import RandomizedSearchCV\n",
        "\n",
        "# Keras neural net imports\n",
        "from keras.models import Sequential\n",
        "from keras.layers import Dense, Dropout, Activation, Flatten\n",
        "from keras.utils import np_utils\n",
        "from keras.wrappers.scikit_learn import KerasClassifier\n",
        "from keras.layers.convolutional import Convolution1D\n",
        "\n",
        "# libraries for boosting\n",
        "import xgboost as xgb\n",
        "from xgboost.sklearn import XGBClassifier\n",
        "from sklearn.model_selection import GridSearchCV\n",
        "from sklearn.model_selection import train_test_split"
      ],
      "execution_count": 0,
      "outputs": []
    },
    {
      "cell_type": "markdown",
      "metadata": {
        "id": "Yk6ZYlD_I5ad",
        "colab_type": "text"
      },
      "source": [
        "## Preprocess"
      ]
    },
    {
      "cell_type": "code",
      "metadata": {
        "id": "NdAtDoSxINPi",
        "colab_type": "code",
        "colab": {}
      },
      "source": [
        "# Load training and test sets in current working directory\n",
        "x_train = pd.read_csv(\"x_train.csv\").drop('Unnamed: 0', axis=1)\n",
        "y_train = pd.read_csv(\"y_train.csv\").drop('Unnamed: 0', axis=1).values.ravel()\n",
        "x_test = pd.read_csv(\"x_test.csv\").drop('Unnamed: 0', axis=1)\n",
        "y_test = pd.read_csv(\"y_test.csv\").drop('Unnamed: 0', axis=1).values.ravel()"
      ],
      "execution_count": 0,
      "outputs": []
    },
    {
      "cell_type": "code",
      "metadata": {
        "id": "Q31LsWaBIiri",
        "colab_type": "code",
        "colab": {}
      },
      "source": [
        "f_x_train = pd.read_csv(\"filtered_x_train.csv\").drop('Unnamed: 0', axis=1)\n",
        "f_x_test = pd.read_csv(\"filtered_x_test.csv\").drop('Unnamed: 0', axis=1)"
      ],
      "execution_count": 0,
      "outputs": []
    },
    {
      "cell_type": "code",
      "metadata": {
        "id": "ium4o2sWIqDK",
        "colab_type": "code",
        "colab": {}
      },
      "source": [
        "import time\n",
        "import math\n",
        "\n",
        "\n",
        "def asMinutes(s):\n",
        "    m = math.floor(s / 60)\n",
        "    s -= m * 60\n",
        "    return '%dm %ds' % (m, s)\n",
        "\n",
        "\n",
        "def timeSince(since):\n",
        "    now = time.time()\n",
        "    s = now - since\n",
        "    return 'Time elapsed: %s (%s to %s)' % (asMinutes(s), asMinutes(since), asMinutes(now))"
      ],
      "execution_count": 0,
      "outputs": []
    },
    {
      "cell_type": "code",
      "metadata": {
        "id": "Cm-fqQ6kI8Vy",
        "colab_type": "code",
        "colab": {}
      },
      "source": [
        "def scoreRMSE(predictor, X, true_y, plot = True):\n",
        "    '''\n",
        "    function to compute root mean squared error as well as prediction accuracy\n",
        "\n",
        "    @args:\n",
        "        predictor: model\n",
        "        X: test input data\n",
        "        true_y: true y labels for test data\n",
        "        plot: only for boosting, plots f-scores for each booster\n",
        "    '''\n",
        "    predictions = predictor.predict(X)\n",
        "    print(\"\\nModel Report\")\n",
        "    print (\"RMSE Score : %f\" % np.sqrt(mean_squared_error(predictions, true_y)))\n",
        "    accuracy = metrics.accuracy_score(predictions, true_y) * 100\n",
        "    print(\"Accuracy : %.4g\" % accuracy, '%')         \n",
        "\n",
        "    if plot:\n",
        "        # Print f-score:    \n",
        "        feat_imp = pd.Series(predictor.get_booster().get_fscore()).sort_values(ascending=False)\n",
        "        feat_imp.plot(kind='bar', title='f-score', figsize = (20, 10))\n",
        "        plt.ylabel('f-score')"
      ],
      "execution_count": 0,
      "outputs": []
    },
    {
      "cell_type": "markdown",
      "metadata": {
        "id": "eM_IAXhAKmlj",
        "colab_type": "text"
      },
      "source": [
        "## Logistic Regressions"
      ]
    },
    {
      "cell_type": "code",
      "metadata": {
        "id": "qFfQP4dkJBzU",
        "colab_type": "code",
        "colab": {
          "base_uri": "https://localhost:8080/",
          "height": 513
        },
        "outputId": "447040a7-84a7-400f-f92c-8051d8ad9460"
      },
      "source": [
        "# Logistic Reg\n",
        "print (\"learning...\")\n",
        "logreg = LogisticRegressionCV(multi_class= \"multinomial\", solver= \"lbfgs\", cv=5,\n",
        "                              max_iter = 10)\n",
        "logreg.fit(x_train, y_train)\n",
        "print(\"\\nTraining Results\")\n",
        "scoreRMSE(logreg, x_train, y_train, plot = False)\n",
        "print(\"\\nEvaluation Results\")\n",
        "scoreRMSE(logreg, x_test, y_test, plot = False)\n",
        "print (\"done learning\")"
      ],
      "execution_count": 14,
      "outputs": [
        {
          "output_type": "stream",
          "text": [
            "learning...\n"
          ],
          "name": "stdout"
        },
        {
          "output_type": "stream",
          "text": [
            "/usr/local/lib/python3.6/dist-packages/sklearn/model_selection/_split.py:657: Warning: The least populated class in y has only 2 members, which is too few. The minimum number of members in any class cannot be less than n_splits=5.\n",
            "  % (min_groups, self.n_splits)), Warning)\n",
            "/usr/local/lib/python3.6/dist-packages/sklearn/linear_model/logistic.py:947: ConvergenceWarning: lbfgs failed to converge. Increase the number of iterations.\n",
            "  \"of iterations.\", ConvergenceWarning)\n",
            "/usr/local/lib/python3.6/dist-packages/sklearn/linear_model/logistic.py:947: ConvergenceWarning: lbfgs failed to converge. Increase the number of iterations.\n",
            "  \"of iterations.\", ConvergenceWarning)\n",
            "/usr/local/lib/python3.6/dist-packages/sklearn/linear_model/logistic.py:947: ConvergenceWarning: lbfgs failed to converge. Increase the number of iterations.\n",
            "  \"of iterations.\", ConvergenceWarning)\n",
            "/usr/local/lib/python3.6/dist-packages/sklearn/linear_model/logistic.py:947: ConvergenceWarning: lbfgs failed to converge. Increase the number of iterations.\n",
            "  \"of iterations.\", ConvergenceWarning)\n"
          ],
          "name": "stderr"
        },
        {
          "output_type": "stream",
          "text": [
            "\n",
            "Training Results\n",
            "\n",
            "Model Report\n",
            "RMSE Score : 6.271508\n",
            "Accuracy : 69.09 %\n",
            "\n",
            "Evaluation Results\n",
            "\n",
            "Model Report\n",
            "RMSE Score : 9.293997\n",
            "Accuracy : 43.24 %\n",
            "done learning\n"
          ],
          "name": "stdout"
        },
        {
          "output_type": "stream",
          "text": [
            "/usr/local/lib/python3.6/dist-packages/sklearn/linear_model/logistic.py:947: ConvergenceWarning: lbfgs failed to converge. Increase the number of iterations.\n",
            "  \"of iterations.\", ConvergenceWarning)\n",
            "/usr/local/lib/python3.6/dist-packages/sklearn/linear_model/logistic.py:947: ConvergenceWarning: lbfgs failed to converge. Increase the number of iterations.\n",
            "  \"of iterations.\", ConvergenceWarning)\n"
          ],
          "name": "stderr"
        }
      ]
    },
    {
      "cell_type": "code",
      "metadata": {
        "id": "pljQGhcuJLBz",
        "colab_type": "code",
        "colab": {
          "base_uri": "https://localhost:8080/",
          "height": 513
        },
        "outputId": "b181d868-97d7-4ac1-f23a-ff14df608d03"
      },
      "source": [
        "# Logistic Reg using Elastic Net\n",
        "print (\"learning...\")\n",
        "elasticreg = LogisticRegressionCV(penalty='elasticnet', multi_class= \"multinomial\", \n",
        "                              solver= \"saga\", l1_ratios=[0.5], cv=5, max_iter = 10)\n",
        "elasticreg.fit(x_train, y_train)\n",
        "print(\"\\nTraining Results\")\n",
        "scoreRMSE(elasticreg, x_train, y_train, plot = False)\n",
        "print(\"\\nEvaluation Results\")\n",
        "scoreRMSE(elasticreg, x_test, y_test, plot = False)\n",
        "print (\"done learning\")"
      ],
      "execution_count": 13,
      "outputs": [
        {
          "output_type": "stream",
          "text": [
            "learning...\n"
          ],
          "name": "stdout"
        },
        {
          "output_type": "stream",
          "text": [
            "/usr/local/lib/python3.6/dist-packages/sklearn/model_selection/_split.py:657: Warning: The least populated class in y has only 2 members, which is too few. The minimum number of members in any class cannot be less than n_splits=5.\n",
            "  % (min_groups, self.n_splits)), Warning)\n",
            "/usr/local/lib/python3.6/dist-packages/sklearn/linear_model/sag.py:337: ConvergenceWarning: The max_iter was reached which means the coef_ did not converge\n",
            "  \"the coef_ did not converge\", ConvergenceWarning)\n",
            "/usr/local/lib/python3.6/dist-packages/sklearn/linear_model/sag.py:337: ConvergenceWarning: The max_iter was reached which means the coef_ did not converge\n",
            "  \"the coef_ did not converge\", ConvergenceWarning)\n",
            "/usr/local/lib/python3.6/dist-packages/sklearn/linear_model/sag.py:337: ConvergenceWarning: The max_iter was reached which means the coef_ did not converge\n",
            "  \"the coef_ did not converge\", ConvergenceWarning)\n",
            "/usr/local/lib/python3.6/dist-packages/sklearn/linear_model/sag.py:337: ConvergenceWarning: The max_iter was reached which means the coef_ did not converge\n",
            "  \"the coef_ did not converge\", ConvergenceWarning)\n",
            "/usr/local/lib/python3.6/dist-packages/sklearn/linear_model/sag.py:337: ConvergenceWarning: The max_iter was reached which means the coef_ did not converge\n",
            "  \"the coef_ did not converge\", ConvergenceWarning)\n"
          ],
          "name": "stderr"
        },
        {
          "output_type": "stream",
          "text": [
            "\n",
            "Training Results\n",
            "\n",
            "Model Report\n",
            "RMSE Score : 6.806080\n",
            "Accuracy : 66.36 %\n",
            "\n",
            "Evaluation Results\n",
            "\n",
            "Model Report\n",
            "RMSE Score : 9.709288\n",
            "Accuracy : 40.54 %\n",
            "done learning\n"
          ],
          "name": "stdout"
        },
        {
          "output_type": "stream",
          "text": [
            "/usr/local/lib/python3.6/dist-packages/sklearn/linear_model/sag.py:337: ConvergenceWarning: The max_iter was reached which means the coef_ did not converge\n",
            "  \"the coef_ did not converge\", ConvergenceWarning)\n"
          ],
          "name": "stderr"
        }
      ]
    },
    {
      "cell_type": "markdown",
      "metadata": {
        "id": "9EiwpTtoI_xM",
        "colab_type": "text"
      },
      "source": [
        "## Bayes"
      ]
    },
    {
      "cell_type": "code",
      "metadata": {
        "id": "X0HhTa1AJBPT",
        "colab_type": "code",
        "colab": {
          "base_uri": "https://localhost:8080/",
          "height": 360
        },
        "outputId": "a314238c-2389-44b7-d2f1-a3e15fcc8140"
      },
      "source": [
        "# MNB\n",
        "print (\"learning...\")\n",
        "mnb = MultinomialNB(fit_prior = True)\n",
        "mnb.fit(x_train, y_train)\n",
        "scores = cross_val_score(mnb, x_train, y_train, cv=10)\n",
        "print(scores)\n",
        "print(\"Mean Accuracy: \", np.mean(scores))\n",
        "print(\"\\nTraining Results\")\n",
        "scoreRMSE(mnb, x_train, y_train, plot = False)\n",
        "print(\"\\nEvaluation Results\")\n",
        "scoreRMSE(mnb, x_test, y_test, plot = False)\n",
        "print (\"done learning\")"
      ],
      "execution_count": 15,
      "outputs": [
        {
          "output_type": "stream",
          "text": [
            "learning...\n",
            "[0.57894737 0.56756757 0.54545455 0.44827586 0.64       0.5\n",
            " 0.42857143 0.45454545 0.875      0.71428571]\n",
            "Mean Accuracy:  0.5752647940914728\n",
            "\n",
            "Training Results\n",
            "\n",
            "Model Report\n",
            "RMSE Score : 7.180149\n",
            "Accuracy : 60.91 %\n",
            "\n",
            "Evaluation Results\n",
            "\n",
            "Model Report\n",
            "RMSE Score : 9.537267\n",
            "Accuracy : 48.65 %\n",
            "done learning\n"
          ],
          "name": "stdout"
        },
        {
          "output_type": "stream",
          "text": [
            "/usr/local/lib/python3.6/dist-packages/sklearn/model_selection/_split.py:657: Warning: The least populated class in y has only 2 members, which is too few. The minimum number of members in any class cannot be less than n_splits=10.\n",
            "  % (min_groups, self.n_splits)), Warning)\n"
          ],
          "name": "stderr"
        }
      ]
    },
    {
      "cell_type": "markdown",
      "metadata": {
        "id": "fgC2sI2iJaQl",
        "colab_type": "text"
      },
      "source": [
        "## SVC"
      ]
    },
    {
      "cell_type": "code",
      "metadata": {
        "id": "ltvtTb2LJdfl",
        "colab_type": "code",
        "colab": {
          "base_uri": "https://localhost:8080/",
          "height": 734
        },
        "outputId": "f3b7812f-c946-4919-a933-9f2413aa0539"
      },
      "source": [
        "# SVM\n",
        "print (\"learning...\")\n",
        "svc = SVC(class_weight='balanced')\n",
        "svc.fit(x_train, y_train)\n",
        "scores = cross_val_score(svc, x_train, y_train, cv=10)\n",
        "print(scores)\n",
        "print(\"Mean Accuracy: \", np.mean(scores))\n",
        "print(\"\\nTraining Results\")\n",
        "scoreRMSE(svc, x_train, y_train, plot = False)\n",
        "print(\"\\nEvaluation Results\")\n",
        "scoreRMSE(svc, x_test, y_test, plot = False)\n",
        "print (\"done learning\")"
      ],
      "execution_count": 16,
      "outputs": [
        {
          "output_type": "stream",
          "text": [
            "learning...\n",
            "[0.05263158 0.05405405 0.03030303 0.06896552 0.04       0.05555556\n",
            " 0.07142857 0.09090909 0.125      0.14285714]\n",
            "Mean Accuracy:  0.07317045412961928\n",
            "\n",
            "Training Results\n",
            "\n",
            "Model Report\n",
            "RMSE Score : 2.779797\n",
            "Accuracy : 92.27 %\n",
            "\n",
            "Evaluation Results\n"
          ],
          "name": "stdout"
        },
        {
          "output_type": "stream",
          "text": [
            "/usr/local/lib/python3.6/dist-packages/sklearn/svm/base.py:193: FutureWarning: The default value of gamma will change from 'auto' to 'scale' in version 0.22 to account better for unscaled features. Set gamma explicitly to 'auto' or 'scale' to avoid this warning.\n",
            "  \"avoid this warning.\", FutureWarning)\n",
            "/usr/local/lib/python3.6/dist-packages/sklearn/model_selection/_split.py:657: Warning: The least populated class in y has only 2 members, which is too few. The minimum number of members in any class cannot be less than n_splits=10.\n",
            "  % (min_groups, self.n_splits)), Warning)\n",
            "/usr/local/lib/python3.6/dist-packages/sklearn/svm/base.py:193: FutureWarning: The default value of gamma will change from 'auto' to 'scale' in version 0.22 to account better for unscaled features. Set gamma explicitly to 'auto' or 'scale' to avoid this warning.\n",
            "  \"avoid this warning.\", FutureWarning)\n",
            "/usr/local/lib/python3.6/dist-packages/sklearn/svm/base.py:193: FutureWarning: The default value of gamma will change from 'auto' to 'scale' in version 0.22 to account better for unscaled features. Set gamma explicitly to 'auto' or 'scale' to avoid this warning.\n",
            "  \"avoid this warning.\", FutureWarning)\n",
            "/usr/local/lib/python3.6/dist-packages/sklearn/svm/base.py:193: FutureWarning: The default value of gamma will change from 'auto' to 'scale' in version 0.22 to account better for unscaled features. Set gamma explicitly to 'auto' or 'scale' to avoid this warning.\n",
            "  \"avoid this warning.\", FutureWarning)\n",
            "/usr/local/lib/python3.6/dist-packages/sklearn/svm/base.py:193: FutureWarning: The default value of gamma will change from 'auto' to 'scale' in version 0.22 to account better for unscaled features. Set gamma explicitly to 'auto' or 'scale' to avoid this warning.\n",
            "  \"avoid this warning.\", FutureWarning)\n",
            "/usr/local/lib/python3.6/dist-packages/sklearn/svm/base.py:193: FutureWarning: The default value of gamma will change from 'auto' to 'scale' in version 0.22 to account better for unscaled features. Set gamma explicitly to 'auto' or 'scale' to avoid this warning.\n",
            "  \"avoid this warning.\", FutureWarning)\n",
            "/usr/local/lib/python3.6/dist-packages/sklearn/svm/base.py:193: FutureWarning: The default value of gamma will change from 'auto' to 'scale' in version 0.22 to account better for unscaled features. Set gamma explicitly to 'auto' or 'scale' to avoid this warning.\n",
            "  \"avoid this warning.\", FutureWarning)\n",
            "/usr/local/lib/python3.6/dist-packages/sklearn/svm/base.py:193: FutureWarning: The default value of gamma will change from 'auto' to 'scale' in version 0.22 to account better for unscaled features. Set gamma explicitly to 'auto' or 'scale' to avoid this warning.\n",
            "  \"avoid this warning.\", FutureWarning)\n",
            "/usr/local/lib/python3.6/dist-packages/sklearn/svm/base.py:193: FutureWarning: The default value of gamma will change from 'auto' to 'scale' in version 0.22 to account better for unscaled features. Set gamma explicitly to 'auto' or 'scale' to avoid this warning.\n",
            "  \"avoid this warning.\", FutureWarning)\n",
            "/usr/local/lib/python3.6/dist-packages/sklearn/svm/base.py:193: FutureWarning: The default value of gamma will change from 'auto' to 'scale' in version 0.22 to account better for unscaled features. Set gamma explicitly to 'auto' or 'scale' to avoid this warning.\n",
            "  \"avoid this warning.\", FutureWarning)\n",
            "/usr/local/lib/python3.6/dist-packages/sklearn/svm/base.py:193: FutureWarning: The default value of gamma will change from 'auto' to 'scale' in version 0.22 to account better for unscaled features. Set gamma explicitly to 'auto' or 'scale' to avoid this warning.\n",
            "  \"avoid this warning.\", FutureWarning)\n"
          ],
          "name": "stderr"
        },
        {
          "output_type": "stream",
          "text": [
            "\n",
            "Model Report\n",
            "RMSE Score : 10.723175\n",
            "Accuracy : 1.351 %\n",
            "done learning\n"
          ],
          "name": "stdout"
        }
      ]
    },
    {
      "cell_type": "markdown",
      "metadata": {
        "id": "GqQxtKfuPAJ8",
        "colab_type": "text"
      },
      "source": [
        "## kNN"
      ]
    },
    {
      "cell_type": "code",
      "metadata": {
        "id": "CDPGpJroPCV6",
        "colab_type": "code",
        "colab": {
          "base_uri": "https://localhost:8080/",
          "height": 360
        },
        "outputId": "0f898ec9-6362-4d2e-9622-4756773ca1ea"
      },
      "source": [
        "# k Nearest Neighbors\n",
        "print (\"learning...\")\n",
        "knn = KNN(n_neighbors=8)\n",
        "knn.fit(x_train, y_train)\n",
        "scores = cross_val_score(knn, x_train, y_train, cv=10)\n",
        "print(scores)\n",
        "print(\"Mean Accuracy: \", np.mean(scores))\n",
        "print(\"\\nTraining Results\")\n",
        "scoreRMSE(knn, x_train, y_train, plot = False)\n",
        "print(\"\\nEvaluation Results\")\n",
        "scoreRMSE(knn, x_test, y_test, plot = False)\n",
        "print (\"done learning\")"
      ],
      "execution_count": 51,
      "outputs": [
        {
          "output_type": "stream",
          "text": [
            "learning...\n",
            "[0.52631579 0.56756757 0.57575758 0.51724138 0.6        0.66666667\n",
            " 0.57142857 0.54545455 0.875      0.71428571]\n",
            "Mean Accuracy:  0.615971780994467\n",
            "\n",
            "Training Results\n",
            "\n",
            "Model Report\n",
            "RMSE Score : 5.710437\n",
            "Accuracy : 71.82 %\n",
            "\n",
            "Evaluation Results\n",
            "\n",
            "Model Report\n",
            "RMSE Score : 9.135615\n",
            "Accuracy : 45.95 %\n",
            "done learning\n"
          ],
          "name": "stdout"
        },
        {
          "output_type": "stream",
          "text": [
            "/usr/local/lib/python3.6/dist-packages/sklearn/model_selection/_split.py:657: Warning: The least populated class in y has only 2 members, which is too few. The minimum number of members in any class cannot be less than n_splits=10.\n",
            "  % (min_groups, self.n_splits)), Warning)\n"
          ],
          "name": "stderr"
        }
      ]
    },
    {
      "cell_type": "markdown",
      "metadata": {
        "id": "mXtVWIH5HR0i",
        "colab_type": "text"
      },
      "source": [
        "## Random Forest"
      ]
    },
    {
      "cell_type": "code",
      "metadata": {
        "id": "RaxIxajyJMKE",
        "colab_type": "code",
        "colab": {}
      },
      "source": [
        "from sklearn.ensemble import RandomForestRegressor\n",
        "from sklearn.model_selection import RandomizedSearchCV\n",
        "\n",
        "\n",
        "# Number of trees in random forest\n",
        "n_estimators = n_estimators = list(range(10, 100, 10))\n",
        "\n",
        "# Number of features to consider at every split\n",
        "max_features = ['auto', 'sqrt']\n",
        "# Maximum number of levels in tree\n",
        "max_depth = list(range(10, 30, 10))\n",
        "max_depth.append(None)\n",
        "# Minimum number of samples required to split a node\n",
        "min_samples_split = [2, 5, 10]\n",
        "# Minimum number of samples required at each leaf node\n",
        "min_samples_leaf = [1, 2, 4]\n",
        "# Method of selecting samples for training each tree\n",
        "bootstrap = [True, False]\n",
        "\n",
        "random_grid = {'n_estimators': n_estimators,\n",
        "               'max_features': max_features,\n",
        "               'max_depth': max_depth,\n",
        "               'min_samples_split': min_samples_split,\n",
        "               'min_samples_leaf': min_samples_leaf,\n",
        "               'bootstrap': bootstrap}"
      ],
      "execution_count": 0,
      "outputs": []
    },
    {
      "cell_type": "code",
      "metadata": {
        "id": "Je7ESlrYOTAj",
        "colab_type": "code",
        "colab": {
          "base_uri": "https://localhost:8080/",
          "height": 445
        },
        "outputId": "f6d6cac2-c937-4318-b2bf-e3198adaf306"
      },
      "source": [
        "print (\"learning...\")\n",
        "rfc = RandomForestClassifier(min_samples_split=10)\n",
        "rf_random = RandomizedSearchCV(estimator = rfc, param_distributions = random_grid, n_iter = 100, cv = 5, verbose=2, random_state=42, n_jobs = -1)\n",
        "\n",
        "rf_random.fit(x_train, y_train)\n",
        "print(rf_random.best_params_) #{'bootstrap': True, 'max_features': 'sqrt', 'min_samples_split': 2, 'max_depth': 30, 'n_estimators': 300, 'min_samples_leaf': 2}\n",
        "print(\"\\nTraining Results\")\n",
        "scoreRMSE(rf_random, x_train, y_train, plot = False) \n",
        "print(\"\\nEvaluation Results\")\n",
        "scoreRMSE(rf_random, x_test, y_test, plot = False)\n",
        "print (\"done learning\")"
      ],
      "execution_count": 20,
      "outputs": [
        {
          "output_type": "stream",
          "text": [
            "learning...\n",
            "Fitting 5 folds for each of 100 candidates, totalling 500 fits\n"
          ],
          "name": "stdout"
        },
        {
          "output_type": "stream",
          "text": [
            "/usr/local/lib/python3.6/dist-packages/sklearn/model_selection/_split.py:657: Warning: The least populated class in y has only 2 members, which is too few. The minimum number of members in any class cannot be less than n_splits=5.\n",
            "  % (min_groups, self.n_splits)), Warning)\n",
            "[Parallel(n_jobs=-1)]: Using backend LokyBackend with 2 concurrent workers.\n",
            "[Parallel(n_jobs=-1)]: Done  37 tasks      | elapsed:    4.8s\n",
            "[Parallel(n_jobs=-1)]: Done 342 tasks      | elapsed:   26.6s\n"
          ],
          "name": "stderr"
        },
        {
          "output_type": "stream",
          "text": [
            "{'n_estimators': 40, 'min_samples_split': 5, 'min_samples_leaf': 2, 'max_features': 'sqrt', 'max_depth': 10, 'bootstrap': True}\n",
            "\n",
            "Training Results\n",
            "\n",
            "Model Report\n",
            "RMSE Score : 3.573259\n",
            "Accuracy : 88.64 %\n",
            "\n",
            "Evaluation Results\n",
            "\n",
            "Model Report\n",
            "RMSE Score : 7.444388\n",
            "Accuracy : 52.7 %\n",
            "done learning\n"
          ],
          "name": "stdout"
        },
        {
          "output_type": "stream",
          "text": [
            "[Parallel(n_jobs=-1)]: Done 500 out of 500 | elapsed:   38.5s finished\n",
            "/usr/local/lib/python3.6/dist-packages/sklearn/model_selection/_search.py:814: DeprecationWarning: The default of the `iid` parameter will change from True to False in version 0.22 and will be removed in 0.24. This will change numeric results when test-set sizes are unequal.\n",
            "  DeprecationWarning)\n"
          ],
          "name": "stderr"
        }
      ]
    },
    {
      "cell_type": "code",
      "metadata": {
        "id": "bIObEIyHOUoR",
        "colab_type": "code",
        "colab": {
          "base_uri": "https://localhost:8080/",
          "height": 1000
        },
        "outputId": "7c2f61c6-cfed-4929-ac8b-e074e6579dce"
      },
      "source": [
        "rf_random.fit(x_train, y_train)\n",
        "scores = cross_val_score(rf_random, x_train, y_train, cv=10)\n",
        "print(scores)\n",
        "print(\"Mean Accuracy: \", np.mean(scores))\n",
        "print (\"done learning\")"
      ],
      "execution_count": 52,
      "outputs": [
        {
          "output_type": "stream",
          "text": [
            "Fitting 5 folds for each of 100 candidates, totalling 500 fits\n"
          ],
          "name": "stdout"
        },
        {
          "output_type": "stream",
          "text": [
            "/usr/local/lib/python3.6/dist-packages/sklearn/model_selection/_split.py:657: Warning: The least populated class in y has only 2 members, which is too few. The minimum number of members in any class cannot be less than n_splits=5.\n",
            "  % (min_groups, self.n_splits)), Warning)\n",
            "[Parallel(n_jobs=-1)]: Using backend LokyBackend with 2 concurrent workers.\n",
            "[Parallel(n_jobs=-1)]: Done  37 tasks      | elapsed:    4.7s\n",
            "[Parallel(n_jobs=-1)]: Done 342 tasks      | elapsed:   26.8s\n",
            "[Parallel(n_jobs=-1)]: Done 500 out of 500 | elapsed:   38.6s finished\n",
            "/usr/local/lib/python3.6/dist-packages/sklearn/model_selection/_search.py:814: DeprecationWarning: The default of the `iid` parameter will change from True to False in version 0.22 and will be removed in 0.24. This will change numeric results when test-set sizes are unequal.\n",
            "  DeprecationWarning)\n",
            "/usr/local/lib/python3.6/dist-packages/sklearn/model_selection/_split.py:657: Warning: The least populated class in y has only 2 members, which is too few. The minimum number of members in any class cannot be less than n_splits=10.\n",
            "  % (min_groups, self.n_splits)), Warning)\n"
          ],
          "name": "stderr"
        },
        {
          "output_type": "stream",
          "text": [
            "Fitting 5 folds for each of 100 candidates, totalling 500 fits\n"
          ],
          "name": "stdout"
        },
        {
          "output_type": "stream",
          "text": [
            "/usr/local/lib/python3.6/dist-packages/sklearn/model_selection/_split.py:657: Warning: The least populated class in y has only 1 members, which is too few. The minimum number of members in any class cannot be less than n_splits=5.\n",
            "  % (min_groups, self.n_splits)), Warning)\n",
            "[Parallel(n_jobs=-1)]: Using backend LokyBackend with 2 concurrent workers.\n",
            "[Parallel(n_jobs=-1)]: Done  37 tasks      | elapsed:    4.6s\n",
            "[Parallel(n_jobs=-1)]: Done 354 tasks      | elapsed:   25.9s\n",
            "[Parallel(n_jobs=-1)]: Done 500 out of 500 | elapsed:   35.9s finished\n",
            "/usr/local/lib/python3.6/dist-packages/sklearn/model_selection/_search.py:814: DeprecationWarning: The default of the `iid` parameter will change from True to False in version 0.22 and will be removed in 0.24. This will change numeric results when test-set sizes are unequal.\n",
            "  DeprecationWarning)\n"
          ],
          "name": "stderr"
        },
        {
          "output_type": "stream",
          "text": [
            "Fitting 5 folds for each of 100 candidates, totalling 500 fits\n"
          ],
          "name": "stdout"
        },
        {
          "output_type": "stream",
          "text": [
            "/usr/local/lib/python3.6/dist-packages/sklearn/model_selection/_split.py:657: Warning: The least populated class in y has only 1 members, which is too few. The minimum number of members in any class cannot be less than n_splits=5.\n",
            "  % (min_groups, self.n_splits)), Warning)\n",
            "[Parallel(n_jobs=-1)]: Using backend LokyBackend with 2 concurrent workers.\n",
            "[Parallel(n_jobs=-1)]: Done  37 tasks      | elapsed:    4.6s\n",
            "[Parallel(n_jobs=-1)]: Done 360 tasks      | elapsed:   26.1s\n",
            "[Parallel(n_jobs=-1)]: Done 500 out of 500 | elapsed:   35.7s finished\n",
            "/usr/local/lib/python3.6/dist-packages/sklearn/model_selection/_search.py:814: DeprecationWarning: The default of the `iid` parameter will change from True to False in version 0.22 and will be removed in 0.24. This will change numeric results when test-set sizes are unequal.\n",
            "  DeprecationWarning)\n"
          ],
          "name": "stderr"
        },
        {
          "output_type": "stream",
          "text": [
            "Fitting 5 folds for each of 100 candidates, totalling 500 fits\n"
          ],
          "name": "stdout"
        },
        {
          "output_type": "stream",
          "text": [
            "/usr/local/lib/python3.6/dist-packages/sklearn/model_selection/_split.py:657: Warning: The least populated class in y has only 2 members, which is too few. The minimum number of members in any class cannot be less than n_splits=5.\n",
            "  % (min_groups, self.n_splits)), Warning)\n",
            "[Parallel(n_jobs=-1)]: Using backend LokyBackend with 2 concurrent workers.\n",
            "[Parallel(n_jobs=-1)]: Done  37 tasks      | elapsed:    4.6s\n",
            "[Parallel(n_jobs=-1)]: Done 360 tasks      | elapsed:   26.4s\n",
            "[Parallel(n_jobs=-1)]: Done 500 out of 500 | elapsed:   36.2s finished\n",
            "/usr/local/lib/python3.6/dist-packages/sklearn/model_selection/_search.py:814: DeprecationWarning: The default of the `iid` parameter will change from True to False in version 0.22 and will be removed in 0.24. This will change numeric results when test-set sizes are unequal.\n",
            "  DeprecationWarning)\n"
          ],
          "name": "stderr"
        },
        {
          "output_type": "stream",
          "text": [
            "Fitting 5 folds for each of 100 candidates, totalling 500 fits\n"
          ],
          "name": "stdout"
        },
        {
          "output_type": "stream",
          "text": [
            "/usr/local/lib/python3.6/dist-packages/sklearn/model_selection/_split.py:657: Warning: The least populated class in y has only 2 members, which is too few. The minimum number of members in any class cannot be less than n_splits=5.\n",
            "  % (min_groups, self.n_splits)), Warning)\n",
            "[Parallel(n_jobs=-1)]: Using backend LokyBackend with 2 concurrent workers.\n",
            "[Parallel(n_jobs=-1)]: Done  37 tasks      | elapsed:    4.7s\n",
            "[Parallel(n_jobs=-1)]: Done 354 tasks      | elapsed:   26.6s\n",
            "[Parallel(n_jobs=-1)]: Done 500 out of 500 | elapsed:   36.7s finished\n",
            "/usr/local/lib/python3.6/dist-packages/sklearn/model_selection/_search.py:814: DeprecationWarning: The default of the `iid` parameter will change from True to False in version 0.22 and will be removed in 0.24. This will change numeric results when test-set sizes are unequal.\n",
            "  DeprecationWarning)\n"
          ],
          "name": "stderr"
        },
        {
          "output_type": "stream",
          "text": [
            "Fitting 5 folds for each of 100 candidates, totalling 500 fits\n"
          ],
          "name": "stdout"
        },
        {
          "output_type": "stream",
          "text": [
            "/usr/local/lib/python3.6/dist-packages/sklearn/model_selection/_split.py:657: Warning: The least populated class in y has only 2 members, which is too few. The minimum number of members in any class cannot be less than n_splits=5.\n",
            "  % (min_groups, self.n_splits)), Warning)\n",
            "[Parallel(n_jobs=-1)]: Using backend LokyBackend with 2 concurrent workers.\n",
            "[Parallel(n_jobs=-1)]: Done  37 tasks      | elapsed:    4.6s\n",
            "[Parallel(n_jobs=-1)]: Done 354 tasks      | elapsed:   26.6s\n",
            "[Parallel(n_jobs=-1)]: Done 500 out of 500 | elapsed:   36.9s finished\n",
            "/usr/local/lib/python3.6/dist-packages/sklearn/model_selection/_search.py:814: DeprecationWarning: The default of the `iid` parameter will change from True to False in version 0.22 and will be removed in 0.24. This will change numeric results when test-set sizes are unequal.\n",
            "  DeprecationWarning)\n"
          ],
          "name": "stderr"
        },
        {
          "output_type": "stream",
          "text": [
            "Fitting 5 folds for each of 100 candidates, totalling 500 fits\n"
          ],
          "name": "stdout"
        },
        {
          "output_type": "stream",
          "text": [
            "/usr/local/lib/python3.6/dist-packages/sklearn/model_selection/_split.py:657: Warning: The least populated class in y has only 2 members, which is too few. The minimum number of members in any class cannot be less than n_splits=5.\n",
            "  % (min_groups, self.n_splits)), Warning)\n",
            "[Parallel(n_jobs=-1)]: Using backend LokyBackend with 2 concurrent workers.\n",
            "[Parallel(n_jobs=-1)]: Done  37 tasks      | elapsed:    4.7s\n",
            "[Parallel(n_jobs=-1)]: Done 354 tasks      | elapsed:   26.8s\n",
            "[Parallel(n_jobs=-1)]: Done 500 out of 500 | elapsed:   37.1s finished\n",
            "/usr/local/lib/python3.6/dist-packages/sklearn/model_selection/_search.py:814: DeprecationWarning: The default of the `iid` parameter will change from True to False in version 0.22 and will be removed in 0.24. This will change numeric results when test-set sizes are unequal.\n",
            "  DeprecationWarning)\n"
          ],
          "name": "stderr"
        },
        {
          "output_type": "stream",
          "text": [
            "Fitting 5 folds for each of 100 candidates, totalling 500 fits\n"
          ],
          "name": "stdout"
        },
        {
          "output_type": "stream",
          "text": [
            "/usr/local/lib/python3.6/dist-packages/sklearn/model_selection/_split.py:657: Warning: The least populated class in y has only 2 members, which is too few. The minimum number of members in any class cannot be less than n_splits=5.\n",
            "  % (min_groups, self.n_splits)), Warning)\n",
            "[Parallel(n_jobs=-1)]: Using backend LokyBackend with 2 concurrent workers.\n",
            "[Parallel(n_jobs=-1)]: Done  37 tasks      | elapsed:    4.6s\n",
            "[Parallel(n_jobs=-1)]: Done 342 tasks      | elapsed:   26.0s\n",
            "[Parallel(n_jobs=-1)]: Done 500 out of 500 | elapsed:   37.4s finished\n",
            "/usr/local/lib/python3.6/dist-packages/sklearn/model_selection/_search.py:814: DeprecationWarning: The default of the `iid` parameter will change from True to False in version 0.22 and will be removed in 0.24. This will change numeric results when test-set sizes are unequal.\n",
            "  DeprecationWarning)\n"
          ],
          "name": "stderr"
        },
        {
          "output_type": "stream",
          "text": [
            "Fitting 5 folds for each of 100 candidates, totalling 500 fits\n"
          ],
          "name": "stdout"
        },
        {
          "output_type": "stream",
          "text": [
            "/usr/local/lib/python3.6/dist-packages/sklearn/model_selection/_split.py:657: Warning: The least populated class in y has only 2 members, which is too few. The minimum number of members in any class cannot be less than n_splits=5.\n",
            "  % (min_groups, self.n_splits)), Warning)\n",
            "[Parallel(n_jobs=-1)]: Using backend LokyBackend with 2 concurrent workers.\n",
            "[Parallel(n_jobs=-1)]: Done  37 tasks      | elapsed:    4.8s\n",
            "[Parallel(n_jobs=-1)]: Done 342 tasks      | elapsed:   26.3s\n",
            "[Parallel(n_jobs=-1)]: Done 500 out of 500 | elapsed:   38.0s finished\n",
            "/usr/local/lib/python3.6/dist-packages/sklearn/model_selection/_search.py:814: DeprecationWarning: The default of the `iid` parameter will change from True to False in version 0.22 and will be removed in 0.24. This will change numeric results when test-set sizes are unequal.\n",
            "  DeprecationWarning)\n"
          ],
          "name": "stderr"
        },
        {
          "output_type": "stream",
          "text": [
            "Fitting 5 folds for each of 100 candidates, totalling 500 fits\n"
          ],
          "name": "stdout"
        },
        {
          "output_type": "stream",
          "text": [
            "/usr/local/lib/python3.6/dist-packages/sklearn/model_selection/_split.py:657: Warning: The least populated class in y has only 2 members, which is too few. The minimum number of members in any class cannot be less than n_splits=5.\n",
            "  % (min_groups, self.n_splits)), Warning)\n",
            "[Parallel(n_jobs=-1)]: Using backend LokyBackend with 2 concurrent workers.\n",
            "[Parallel(n_jobs=-1)]: Done  37 tasks      | elapsed:    4.7s\n",
            "[Parallel(n_jobs=-1)]: Done 342 tasks      | elapsed:   26.3s\n",
            "[Parallel(n_jobs=-1)]: Done 500 out of 500 | elapsed:   37.9s finished\n",
            "/usr/local/lib/python3.6/dist-packages/sklearn/model_selection/_search.py:814: DeprecationWarning: The default of the `iid` parameter will change from True to False in version 0.22 and will be removed in 0.24. This will change numeric results when test-set sizes are unequal.\n",
            "  DeprecationWarning)\n"
          ],
          "name": "stderr"
        },
        {
          "output_type": "stream",
          "text": [
            "Fitting 5 folds for each of 100 candidates, totalling 500 fits\n"
          ],
          "name": "stdout"
        },
        {
          "output_type": "stream",
          "text": [
            "/usr/local/lib/python3.6/dist-packages/sklearn/model_selection/_split.py:657: Warning: The least populated class in y has only 2 members, which is too few. The minimum number of members in any class cannot be less than n_splits=5.\n",
            "  % (min_groups, self.n_splits)), Warning)\n",
            "[Parallel(n_jobs=-1)]: Using backend LokyBackend with 2 concurrent workers.\n",
            "[Parallel(n_jobs=-1)]: Done  37 tasks      | elapsed:    4.7s\n",
            "[Parallel(n_jobs=-1)]: Done 342 tasks      | elapsed:   26.4s\n"
          ],
          "name": "stderr"
        },
        {
          "output_type": "stream",
          "text": [
            "[0.73684211 0.7027027  0.66666667 0.62068966 0.68       0.72222222\n",
            " 0.57142857 0.63636364 0.875      0.85714286]\n",
            "Mean Accuracy:  0.7069058416962227\n",
            "done learning\n"
          ],
          "name": "stdout"
        },
        {
          "output_type": "stream",
          "text": [
            "[Parallel(n_jobs=-1)]: Done 500 out of 500 | elapsed:   38.0s finished\n",
            "/usr/local/lib/python3.6/dist-packages/sklearn/model_selection/_search.py:814: DeprecationWarning: The default of the `iid` parameter will change from True to False in version 0.22 and will be removed in 0.24. This will change numeric results when test-set sizes are unequal.\n",
            "  DeprecationWarning)\n"
          ],
          "name": "stderr"
        }
      ]
    },
    {
      "cell_type": "code",
      "metadata": {
        "id": "2tf0JzASUNzV",
        "colab_type": "code",
        "colab": {}
      },
      "source": [
        ""
      ],
      "execution_count": 0,
      "outputs": []
    },
    {
      "cell_type": "markdown",
      "metadata": {
        "id": "G7AZurixK8ai",
        "colab_type": "text"
      },
      "source": [
        "## Neural Net"
      ]
    },
    {
      "cell_type": "code",
      "metadata": {
        "id": "Ej8jR54uK7_3",
        "colab_type": "code",
        "colab": {}
      },
      "source": [
        "nn_train = np_utils.to_categorical(y_train)\n",
        "\n",
        "def nn():\n",
        "    model = Sequential()\n",
        "    model.add(Dense(100, input_dim= x_train.shape[1], init = 'normal', activation = 'relu'))\n",
        "    #model.add(Dense(256, kernel_initializer='normal',activation='relu'))\n",
        "    model.add(Dense(nn_train.shape[1], init='normal', activation = 'softmax'))\n",
        "    model.compile(loss='categorical_crossentropy', optimizer = 'adam', metrics= ['accuracy'])\n",
        "    return model"
      ],
      "execution_count": 0,
      "outputs": []
    },
    {
      "cell_type": "code",
      "metadata": {
        "id": "lRI8sGReLLMy",
        "colab_type": "code",
        "colab": {
          "base_uri": "https://localhost:8080/",
          "height": 683
        },
        "outputId": "870001d0-e5a5-4b22-ac16-195f9470cfdf"
      },
      "source": [
        "print (\"learning...\")\n",
        "nnc = KerasClassifier(build_fn = nn, nb_epoch = 200, batch_size=5, verbose=0)\n",
        "scores = cross_val_score(nnc, x_train, nn_train, cv=10)\n",
        "print(scores)\n",
        "print(\"Mean Accuracy: \", np.mean(scores))\n",
        "print (\"done learning\")"
      ],
      "execution_count": 24,
      "outputs": [
        {
          "output_type": "stream",
          "text": [
            "learning...\n",
            "WARNING:tensorflow:From /usr/local/lib/python3.6/dist-packages/keras/backend/tensorflow_backend.py:66: The name tf.get_default_graph is deprecated. Please use tf.compat.v1.get_default_graph instead.\n",
            "\n",
            "WARNING:tensorflow:From /usr/local/lib/python3.6/dist-packages/keras/backend/tensorflow_backend.py:541: The name tf.placeholder is deprecated. Please use tf.compat.v1.placeholder instead.\n",
            "\n",
            "WARNING:tensorflow:From /usr/local/lib/python3.6/dist-packages/keras/backend/tensorflow_backend.py:4409: The name tf.random_normal is deprecated. Please use tf.random.normal instead.\n",
            "\n",
            "WARNING:tensorflow:From /usr/local/lib/python3.6/dist-packages/keras/optimizers.py:793: The name tf.train.Optimizer is deprecated. Please use tf.compat.v1.train.Optimizer instead.\n",
            "\n",
            "WARNING:tensorflow:From /usr/local/lib/python3.6/dist-packages/keras/backend/tensorflow_backend.py:3576: The name tf.log is deprecated. Please use tf.math.log instead.\n",
            "\n",
            "WARNING:tensorflow:From /usr/local/lib/python3.6/dist-packages/tensorflow_core/python/ops/math_grad.py:1424: where (from tensorflow.python.ops.array_ops) is deprecated and will be removed in a future version.\n",
            "Instructions for updating:\n",
            "Use tf.where in 2.0, which has the same broadcast rule as np.where\n"
          ],
          "name": "stdout"
        },
        {
          "output_type": "stream",
          "text": [
            "/usr/local/lib/python3.6/dist-packages/ipykernel_launcher.py:5: UserWarning: Update your `Dense` call to the Keras 2 API: `Dense(100, input_dim=46, activation=\"relu\", kernel_initializer=\"normal\")`\n",
            "  \"\"\"\n",
            "/usr/local/lib/python3.6/dist-packages/ipykernel_launcher.py:6: UserWarning: Update your `Dense` call to the Keras 2 API: `Dense(31, activation=\"softmax\", kernel_initializer=\"normal\")`\n",
            "  \n"
          ],
          "name": "stderr"
        },
        {
          "output_type": "stream",
          "text": [
            "WARNING:tensorflow:From /usr/local/lib/python3.6/dist-packages/keras/backend/tensorflow_backend.py:1033: The name tf.assign_add is deprecated. Please use tf.compat.v1.assign_add instead.\n",
            "\n",
            "WARNING:tensorflow:From /usr/local/lib/python3.6/dist-packages/keras/backend/tensorflow_backend.py:1020: The name tf.assign is deprecated. Please use tf.compat.v1.assign instead.\n",
            "\n",
            "WARNING:tensorflow:From /usr/local/lib/python3.6/dist-packages/keras/backend/tensorflow_backend.py:3005: The name tf.Session is deprecated. Please use tf.compat.v1.Session instead.\n",
            "\n",
            "WARNING:tensorflow:From /usr/local/lib/python3.6/dist-packages/keras/backend/tensorflow_backend.py:190: The name tf.get_default_session is deprecated. Please use tf.compat.v1.get_default_session instead.\n",
            "\n",
            "WARNING:tensorflow:From /usr/local/lib/python3.6/dist-packages/keras/backend/tensorflow_backend.py:197: The name tf.ConfigProto is deprecated. Please use tf.compat.v1.ConfigProto instead.\n",
            "\n",
            "WARNING:tensorflow:From /usr/local/lib/python3.6/dist-packages/keras/backend/tensorflow_backend.py:207: The name tf.global_variables is deprecated. Please use tf.compat.v1.global_variables instead.\n",
            "\n",
            "WARNING:tensorflow:From /usr/local/lib/python3.6/dist-packages/keras/backend/tensorflow_backend.py:216: The name tf.is_variable_initialized is deprecated. Please use tf.compat.v1.is_variable_initialized instead.\n",
            "\n",
            "WARNING:tensorflow:From /usr/local/lib/python3.6/dist-packages/keras/backend/tensorflow_backend.py:223: The name tf.variables_initializer is deprecated. Please use tf.compat.v1.variables_initializer instead.\n",
            "\n",
            "[0.09090909 0.18181818 0.04545455 0.09090909 0.18181818 0.\n",
            " 0.09090909 0.09090909 0.         0.        ]\n",
            "Mean Accuracy:  0.07727272815325044\n",
            "done learning\n"
          ],
          "name": "stdout"
        }
      ]
    },
    {
      "cell_type": "code",
      "metadata": {
        "id": "dk-lXomeNP8f",
        "colab_type": "code",
        "colab": {
          "base_uri": "https://localhost:8080/",
          "height": 1000
        },
        "outputId": "29cb55eb-c26e-41fb-de7b-b0332a8543e6"
      },
      "source": [
        "history = nnc.fit(x_train, nn_train, epochs= 150, batch_size = 32, validation_split = 0.2, verbose=True)\n"
      ],
      "execution_count": 33,
      "outputs": [
        {
          "output_type": "stream",
          "text": [
            "/usr/local/lib/python3.6/dist-packages/ipykernel_launcher.py:5: UserWarning: Update your `Dense` call to the Keras 2 API: `Dense(100, input_dim=46, activation=\"relu\", kernel_initializer=\"normal\")`\n",
            "  \"\"\"\n",
            "/usr/local/lib/python3.6/dist-packages/ipykernel_launcher.py:6: UserWarning: Update your `Dense` call to the Keras 2 API: `Dense(31, activation=\"softmax\", kernel_initializer=\"normal\")`\n",
            "  \n"
          ],
          "name": "stderr"
        },
        {
          "output_type": "stream",
          "text": [
            "Train on 176 samples, validate on 44 samples\n",
            "Epoch 1/150\n",
            "176/176 [==============================] - 1s 5ms/step - loss: 14.9401 - acc: 0.0682 - val_loss: 15.0191 - val_acc: 0.0682\n",
            "Epoch 2/150\n",
            "176/176 [==============================] - 0s 82us/step - loss: 14.8360 - acc: 0.0795 - val_loss: 15.0191 - val_acc: 0.0682\n",
            "Epoch 3/150\n",
            "176/176 [==============================] - 0s 82us/step - loss: 14.8360 - acc: 0.0795 - val_loss: 15.0191 - val_acc: 0.0682\n",
            "Epoch 4/150\n",
            "176/176 [==============================] - 0s 79us/step - loss: 14.8360 - acc: 0.0795 - val_loss: 15.0191 - val_acc: 0.0682\n",
            "Epoch 5/150\n",
            "176/176 [==============================] - 0s 73us/step - loss: 14.8360 - acc: 0.0795 - val_loss: 15.0191 - val_acc: 0.0682\n",
            "Epoch 6/150\n",
            "176/176 [==============================] - 0s 79us/step - loss: 14.8360 - acc: 0.0795 - val_loss: 15.0191 - val_acc: 0.0682\n",
            "Epoch 7/150\n",
            "176/176 [==============================] - 0s 66us/step - loss: 14.8360 - acc: 0.0795 - val_loss: 15.0191 - val_acc: 0.0682\n",
            "Epoch 8/150\n",
            "176/176 [==============================] - 0s 92us/step - loss: 14.8360 - acc: 0.0795 - val_loss: 15.0191 - val_acc: 0.0682\n",
            "Epoch 9/150\n",
            "176/176 [==============================] - 0s 83us/step - loss: 14.8360 - acc: 0.0795 - val_loss: 15.0191 - val_acc: 0.0682\n",
            "Epoch 10/150\n",
            "176/176 [==============================] - 0s 80us/step - loss: 14.8360 - acc: 0.0795 - val_loss: 15.0191 - val_acc: 0.0682\n",
            "Epoch 11/150\n",
            "176/176 [==============================] - 0s 77us/step - loss: 14.8360 - acc: 0.0795 - val_loss: 15.0191 - val_acc: 0.0682\n",
            "Epoch 12/150\n",
            "176/176 [==============================] - 0s 99us/step - loss: 14.8360 - acc: 0.0795 - val_loss: 15.0191 - val_acc: 0.0682\n",
            "Epoch 13/150\n",
            "176/176 [==============================] - 0s 63us/step - loss: 14.8360 - acc: 0.0795 - val_loss: 15.0191 - val_acc: 0.0682\n",
            "Epoch 14/150\n",
            "176/176 [==============================] - 0s 80us/step - loss: 14.8360 - acc: 0.0795 - val_loss: 15.0191 - val_acc: 0.0682\n",
            "Epoch 15/150\n",
            "176/176 [==============================] - 0s 75us/step - loss: 14.8360 - acc: 0.0795 - val_loss: 15.0191 - val_acc: 0.0682\n",
            "Epoch 16/150\n",
            "176/176 [==============================] - 0s 77us/step - loss: 14.8360 - acc: 0.0795 - val_loss: 15.0191 - val_acc: 0.0682\n",
            "Epoch 17/150\n",
            "176/176 [==============================] - 0s 77us/step - loss: 14.8360 - acc: 0.0795 - val_loss: 15.0191 - val_acc: 0.0682\n",
            "Epoch 18/150\n",
            "176/176 [==============================] - 0s 80us/step - loss: 14.8360 - acc: 0.0795 - val_loss: 15.0191 - val_acc: 0.0682\n",
            "Epoch 19/150\n",
            "176/176 [==============================] - 0s 77us/step - loss: 14.8360 - acc: 0.0795 - val_loss: 15.0191 - val_acc: 0.0682\n",
            "Epoch 20/150\n",
            "176/176 [==============================] - 0s 73us/step - loss: 14.8360 - acc: 0.0795 - val_loss: 15.0191 - val_acc: 0.0682\n",
            "Epoch 21/150\n",
            "176/176 [==============================] - 0s 72us/step - loss: 14.8360 - acc: 0.0795 - val_loss: 15.0191 - val_acc: 0.0682\n",
            "Epoch 22/150\n",
            "176/176 [==============================] - 0s 78us/step - loss: 14.8360 - acc: 0.0795 - val_loss: 15.0191 - val_acc: 0.0682\n",
            "Epoch 23/150\n",
            "176/176 [==============================] - 0s 105us/step - loss: 14.8360 - acc: 0.0795 - val_loss: 15.0191 - val_acc: 0.0682\n",
            "Epoch 24/150\n",
            "176/176 [==============================] - 0s 73us/step - loss: 14.8360 - acc: 0.0795 - val_loss: 15.0191 - val_acc: 0.0682\n",
            "Epoch 25/150\n",
            "176/176 [==============================] - 0s 78us/step - loss: 14.8360 - acc: 0.0795 - val_loss: 15.0191 - val_acc: 0.0682\n",
            "Epoch 26/150\n",
            "176/176 [==============================] - 0s 101us/step - loss: 14.8360 - acc: 0.0795 - val_loss: 15.0191 - val_acc: 0.0682\n",
            "Epoch 27/150\n",
            "176/176 [==============================] - 0s 75us/step - loss: 14.8360 - acc: 0.0795 - val_loss: 15.0191 - val_acc: 0.0682\n",
            "Epoch 28/150\n",
            "176/176 [==============================] - 0s 88us/step - loss: 14.8360 - acc: 0.0795 - val_loss: 15.0191 - val_acc: 0.0682\n",
            "Epoch 29/150\n",
            "176/176 [==============================] - 0s 90us/step - loss: 14.8360 - acc: 0.0795 - val_loss: 15.0191 - val_acc: 0.0682\n",
            "Epoch 30/150\n",
            "176/176 [==============================] - 0s 83us/step - loss: 14.8360 - acc: 0.0795 - val_loss: 15.0191 - val_acc: 0.0682\n",
            "Epoch 31/150\n",
            "176/176 [==============================] - 0s 92us/step - loss: 14.8360 - acc: 0.0795 - val_loss: 15.0191 - val_acc: 0.0682\n",
            "Epoch 32/150\n",
            "176/176 [==============================] - 0s 78us/step - loss: 14.8360 - acc: 0.0795 - val_loss: 15.0191 - val_acc: 0.0682\n",
            "Epoch 33/150\n",
            "176/176 [==============================] - 0s 79us/step - loss: 14.8360 - acc: 0.0795 - val_loss: 15.0191 - val_acc: 0.0682\n",
            "Epoch 34/150\n",
            "176/176 [==============================] - 0s 91us/step - loss: 14.8360 - acc: 0.0795 - val_loss: 15.0191 - val_acc: 0.0682\n",
            "Epoch 35/150\n",
            "176/176 [==============================] - 0s 109us/step - loss: 14.8360 - acc: 0.0795 - val_loss: 15.0191 - val_acc: 0.0682\n",
            "Epoch 36/150\n",
            "176/176 [==============================] - 0s 83us/step - loss: 14.8360 - acc: 0.0795 - val_loss: 15.0191 - val_acc: 0.0682\n",
            "Epoch 37/150\n",
            "176/176 [==============================] - 0s 102us/step - loss: 14.8360 - acc: 0.0795 - val_loss: 15.0191 - val_acc: 0.0682\n",
            "Epoch 38/150\n",
            "176/176 [==============================] - 0s 97us/step - loss: 14.8360 - acc: 0.0795 - val_loss: 15.0191 - val_acc: 0.0682\n",
            "Epoch 39/150\n",
            "176/176 [==============================] - 0s 90us/step - loss: 14.8360 - acc: 0.0795 - val_loss: 15.0191 - val_acc: 0.0682\n",
            "Epoch 40/150\n",
            "176/176 [==============================] - 0s 79us/step - loss: 14.8360 - acc: 0.0795 - val_loss: 15.0191 - val_acc: 0.0682\n",
            "Epoch 41/150\n",
            "176/176 [==============================] - 0s 110us/step - loss: 14.8360 - acc: 0.0795 - val_loss: 15.0191 - val_acc: 0.0682\n",
            "Epoch 42/150\n",
            "176/176 [==============================] - 0s 89us/step - loss: 14.8360 - acc: 0.0795 - val_loss: 15.0191 - val_acc: 0.0682\n",
            "Epoch 43/150\n",
            "176/176 [==============================] - 0s 76us/step - loss: 14.8360 - acc: 0.0795 - val_loss: 15.0191 - val_acc: 0.0682\n",
            "Epoch 44/150\n",
            "176/176 [==============================] - 0s 73us/step - loss: 14.8360 - acc: 0.0795 - val_loss: 15.0191 - val_acc: 0.0682\n",
            "Epoch 45/150\n",
            "176/176 [==============================] - 0s 71us/step - loss: 14.8360 - acc: 0.0795 - val_loss: 15.0191 - val_acc: 0.0682\n",
            "Epoch 46/150\n",
            "176/176 [==============================] - 0s 74us/step - loss: 14.8360 - acc: 0.0795 - val_loss: 15.0191 - val_acc: 0.0682\n",
            "Epoch 47/150\n",
            "176/176 [==============================] - 0s 82us/step - loss: 14.8360 - acc: 0.0795 - val_loss: 15.0191 - val_acc: 0.0682\n",
            "Epoch 48/150\n",
            "176/176 [==============================] - 0s 74us/step - loss: 14.8360 - acc: 0.0795 - val_loss: 15.0191 - val_acc: 0.0682\n",
            "Epoch 49/150\n",
            "176/176 [==============================] - 0s 89us/step - loss: 14.8360 - acc: 0.0795 - val_loss: 15.0191 - val_acc: 0.0682\n",
            "Epoch 50/150\n",
            "176/176 [==============================] - 0s 80us/step - loss: 14.8360 - acc: 0.0795 - val_loss: 15.0191 - val_acc: 0.0682\n",
            "Epoch 51/150\n",
            "176/176 [==============================] - 0s 75us/step - loss: 14.8360 - acc: 0.0795 - val_loss: 15.0191 - val_acc: 0.0682\n",
            "Epoch 52/150\n",
            "176/176 [==============================] - 0s 78us/step - loss: 14.8360 - acc: 0.0795 - val_loss: 15.0191 - val_acc: 0.0682\n",
            "Epoch 53/150\n",
            "176/176 [==============================] - 0s 78us/step - loss: 14.8360 - acc: 0.0795 - val_loss: 15.0191 - val_acc: 0.0682\n",
            "Epoch 54/150\n",
            "176/176 [==============================] - 0s 75us/step - loss: 14.8360 - acc: 0.0795 - val_loss: 15.0191 - val_acc: 0.0682\n",
            "Epoch 55/150\n",
            "176/176 [==============================] - 0s 75us/step - loss: 14.8360 - acc: 0.0795 - val_loss: 15.0191 - val_acc: 0.0682\n",
            "Epoch 56/150\n",
            "176/176 [==============================] - 0s 73us/step - loss: 14.8360 - acc: 0.0795 - val_loss: 15.0191 - val_acc: 0.0682\n",
            "Epoch 57/150\n",
            "176/176 [==============================] - 0s 82us/step - loss: 14.8360 - acc: 0.0795 - val_loss: 15.0191 - val_acc: 0.0682\n",
            "Epoch 58/150\n",
            "176/176 [==============================] - 0s 88us/step - loss: 14.8360 - acc: 0.0795 - val_loss: 15.0191 - val_acc: 0.0682\n",
            "Epoch 59/150\n",
            "176/176 [==============================] - 0s 117us/step - loss: 14.8360 - acc: 0.0795 - val_loss: 15.0191 - val_acc: 0.0682\n",
            "Epoch 60/150\n",
            "176/176 [==============================] - 0s 91us/step - loss: 14.8360 - acc: 0.0795 - val_loss: 15.0191 - val_acc: 0.0682\n",
            "Epoch 61/150\n",
            "176/176 [==============================] - 0s 84us/step - loss: 14.8360 - acc: 0.0795 - val_loss: 15.0191 - val_acc: 0.0682\n",
            "Epoch 62/150\n",
            "176/176 [==============================] - 0s 89us/step - loss: 14.8360 - acc: 0.0795 - val_loss: 15.0191 - val_acc: 0.0682\n",
            "Epoch 63/150\n",
            "176/176 [==============================] - 0s 88us/step - loss: 14.8360 - acc: 0.0795 - val_loss: 15.0191 - val_acc: 0.0682\n",
            "Epoch 64/150\n",
            "176/176 [==============================] - 0s 83us/step - loss: 14.8360 - acc: 0.0795 - val_loss: 15.0191 - val_acc: 0.0682\n",
            "Epoch 65/150\n",
            "176/176 [==============================] - 0s 101us/step - loss: 14.8360 - acc: 0.0795 - val_loss: 15.0191 - val_acc: 0.0682\n",
            "Epoch 66/150\n",
            "176/176 [==============================] - 0s 87us/step - loss: 14.8360 - acc: 0.0795 - val_loss: 15.0191 - val_acc: 0.0682\n",
            "Epoch 67/150\n",
            "176/176 [==============================] - 0s 77us/step - loss: 14.8360 - acc: 0.0795 - val_loss: 15.0191 - val_acc: 0.0682\n",
            "Epoch 68/150\n",
            "176/176 [==============================] - 0s 82us/step - loss: 14.8360 - acc: 0.0795 - val_loss: 15.0191 - val_acc: 0.0682\n",
            "Epoch 69/150\n",
            "176/176 [==============================] - 0s 78us/step - loss: 14.8360 - acc: 0.0795 - val_loss: 15.0191 - val_acc: 0.0682\n",
            "Epoch 70/150\n",
            "176/176 [==============================] - 0s 88us/step - loss: 14.8360 - acc: 0.0795 - val_loss: 15.0191 - val_acc: 0.0682\n",
            "Epoch 71/150\n",
            "176/176 [==============================] - 0s 77us/step - loss: 14.8360 - acc: 0.0795 - val_loss: 15.0191 - val_acc: 0.0682\n",
            "Epoch 72/150\n",
            "176/176 [==============================] - 0s 74us/step - loss: 14.8360 - acc: 0.0795 - val_loss: 15.0191 - val_acc: 0.0682\n",
            "Epoch 73/150\n",
            "176/176 [==============================] - 0s 78us/step - loss: 14.8360 - acc: 0.0795 - val_loss: 15.0191 - val_acc: 0.0682\n",
            "Epoch 74/150\n",
            "176/176 [==============================] - 0s 87us/step - loss: 14.8360 - acc: 0.0795 - val_loss: 15.0191 - val_acc: 0.0682\n",
            "Epoch 75/150\n",
            "176/176 [==============================] - 0s 80us/step - loss: 14.8360 - acc: 0.0795 - val_loss: 15.0191 - val_acc: 0.0682\n",
            "Epoch 76/150\n",
            "176/176 [==============================] - 0s 71us/step - loss: 14.8360 - acc: 0.0795 - val_loss: 15.0191 - val_acc: 0.0682\n",
            "Epoch 77/150\n",
            "176/176 [==============================] - 0s 85us/step - loss: 14.8360 - acc: 0.0795 - val_loss: 15.0191 - val_acc: 0.0682\n",
            "Epoch 78/150\n",
            "176/176 [==============================] - 0s 84us/step - loss: 14.8360 - acc: 0.0795 - val_loss: 15.0191 - val_acc: 0.0682\n",
            "Epoch 79/150\n",
            "176/176 [==============================] - 0s 77us/step - loss: 14.8360 - acc: 0.0795 - val_loss: 15.0191 - val_acc: 0.0682\n",
            "Epoch 80/150\n",
            "176/176 [==============================] - 0s 80us/step - loss: 14.8360 - acc: 0.0795 - val_loss: 15.0191 - val_acc: 0.0682\n",
            "Epoch 81/150\n",
            "176/176 [==============================] - 0s 76us/step - loss: 14.8360 - acc: 0.0795 - val_loss: 15.0191 - val_acc: 0.0682\n",
            "Epoch 82/150\n",
            "176/176 [==============================] - 0s 81us/step - loss: 14.8360 - acc: 0.0795 - val_loss: 15.0191 - val_acc: 0.0682\n",
            "Epoch 83/150\n",
            "176/176 [==============================] - 0s 85us/step - loss: 14.8360 - acc: 0.0795 - val_loss: 15.0191 - val_acc: 0.0682\n",
            "Epoch 84/150\n",
            "176/176 [==============================] - 0s 89us/step - loss: 14.8360 - acc: 0.0795 - val_loss: 15.0191 - val_acc: 0.0682\n",
            "Epoch 85/150\n",
            "176/176 [==============================] - 0s 84us/step - loss: 14.8360 - acc: 0.0795 - val_loss: 15.0191 - val_acc: 0.0682\n",
            "Epoch 86/150\n",
            "176/176 [==============================] - 0s 87us/step - loss: 14.8360 - acc: 0.0795 - val_loss: 15.0191 - val_acc: 0.0682\n",
            "Epoch 87/150\n",
            "176/176 [==============================] - 0s 82us/step - loss: 14.8360 - acc: 0.0795 - val_loss: 15.0191 - val_acc: 0.0682\n",
            "Epoch 88/150\n",
            "176/176 [==============================] - 0s 91us/step - loss: 14.8360 - acc: 0.0795 - val_loss: 15.0191 - val_acc: 0.0682\n",
            "Epoch 89/150\n",
            "176/176 [==============================] - 0s 82us/step - loss: 14.8360 - acc: 0.0795 - val_loss: 15.0191 - val_acc: 0.0682\n",
            "Epoch 90/150\n",
            "176/176 [==============================] - 0s 98us/step - loss: 14.8360 - acc: 0.0795 - val_loss: 15.0191 - val_acc: 0.0682\n",
            "Epoch 91/150\n",
            "176/176 [==============================] - 0s 92us/step - loss: 14.8360 - acc: 0.0795 - val_loss: 15.0191 - val_acc: 0.0682\n",
            "Epoch 92/150\n",
            "176/176 [==============================] - 0s 92us/step - loss: 14.8360 - acc: 0.0795 - val_loss: 15.0191 - val_acc: 0.0682\n",
            "Epoch 93/150\n",
            "176/176 [==============================] - 0s 87us/step - loss: 14.8360 - acc: 0.0795 - val_loss: 15.0191 - val_acc: 0.0682\n",
            "Epoch 94/150\n",
            "176/176 [==============================] - 0s 84us/step - loss: 14.8360 - acc: 0.0795 - val_loss: 15.0191 - val_acc: 0.0682\n",
            "Epoch 95/150\n",
            "176/176 [==============================] - 0s 97us/step - loss: 14.8360 - acc: 0.0795 - val_loss: 15.0191 - val_acc: 0.0682\n",
            "Epoch 96/150\n",
            "176/176 [==============================] - 0s 86us/step - loss: 14.8360 - acc: 0.0795 - val_loss: 15.0191 - val_acc: 0.0682\n",
            "Epoch 97/150\n",
            "176/176 [==============================] - 0s 83us/step - loss: 14.8360 - acc: 0.0795 - val_loss: 15.0191 - val_acc: 0.0682\n",
            "Epoch 98/150\n",
            "176/176 [==============================] - 0s 77us/step - loss: 14.8360 - acc: 0.0795 - val_loss: 15.0191 - val_acc: 0.0682\n",
            "Epoch 99/150\n",
            "176/176 [==============================] - 0s 98us/step - loss: 14.8360 - acc: 0.0795 - val_loss: 15.0191 - val_acc: 0.0682\n",
            "Epoch 100/150\n",
            "176/176 [==============================] - 0s 79us/step - loss: 14.8360 - acc: 0.0795 - val_loss: 15.0191 - val_acc: 0.0682\n",
            "Epoch 101/150\n",
            "176/176 [==============================] - 0s 84us/step - loss: 14.8360 - acc: 0.0795 - val_loss: 15.0191 - val_acc: 0.0682\n",
            "Epoch 102/150\n",
            "176/176 [==============================] - 0s 100us/step - loss: 14.8360 - acc: 0.0795 - val_loss: 15.0191 - val_acc: 0.0682\n",
            "Epoch 103/150\n",
            "176/176 [==============================] - 0s 90us/step - loss: 14.8360 - acc: 0.0795 - val_loss: 15.0191 - val_acc: 0.0682\n",
            "Epoch 104/150\n",
            "176/176 [==============================] - 0s 90us/step - loss: 14.8360 - acc: 0.0795 - val_loss: 15.0191 - val_acc: 0.0682\n",
            "Epoch 105/150\n",
            "176/176 [==============================] - 0s 89us/step - loss: 14.8360 - acc: 0.0795 - val_loss: 15.0191 - val_acc: 0.0682\n",
            "Epoch 106/150\n",
            "176/176 [==============================] - 0s 80us/step - loss: 14.8360 - acc: 0.0795 - val_loss: 15.0191 - val_acc: 0.0682\n",
            "Epoch 107/150\n",
            "176/176 [==============================] - 0s 101us/step - loss: 14.8360 - acc: 0.0795 - val_loss: 15.0191 - val_acc: 0.0682\n",
            "Epoch 108/150\n",
            "176/176 [==============================] - 0s 82us/step - loss: 14.8360 - acc: 0.0795 - val_loss: 15.0191 - val_acc: 0.0682\n",
            "Epoch 109/150\n",
            "176/176 [==============================] - 0s 87us/step - loss: 14.8360 - acc: 0.0795 - val_loss: 15.0191 - val_acc: 0.0682\n",
            "Epoch 110/150\n",
            "176/176 [==============================] - 0s 79us/step - loss: 14.8360 - acc: 0.0795 - val_loss: 15.0191 - val_acc: 0.0682\n",
            "Epoch 111/150\n",
            "176/176 [==============================] - 0s 79us/step - loss: 14.8360 - acc: 0.0795 - val_loss: 15.0191 - val_acc: 0.0682\n",
            "Epoch 112/150\n",
            "176/176 [==============================] - 0s 75us/step - loss: 14.8360 - acc: 0.0795 - val_loss: 15.0191 - val_acc: 0.0682\n",
            "Epoch 113/150\n",
            "176/176 [==============================] - 0s 104us/step - loss: 14.8360 - acc: 0.0795 - val_loss: 15.0191 - val_acc: 0.0682\n",
            "Epoch 114/150\n",
            "176/176 [==============================] - 0s 84us/step - loss: 14.8360 - acc: 0.0795 - val_loss: 15.0191 - val_acc: 0.0682\n",
            "Epoch 115/150\n",
            "176/176 [==============================] - 0s 74us/step - loss: 14.8360 - acc: 0.0795 - val_loss: 15.0191 - val_acc: 0.0682\n",
            "Epoch 116/150\n",
            "176/176 [==============================] - 0s 79us/step - loss: 14.8360 - acc: 0.0795 - val_loss: 15.0191 - val_acc: 0.0682\n",
            "Epoch 117/150\n",
            "176/176 [==============================] - 0s 84us/step - loss: 14.8360 - acc: 0.0795 - val_loss: 15.0191 - val_acc: 0.0682\n",
            "Epoch 118/150\n",
            "176/176 [==============================] - 0s 85us/step - loss: 14.8360 - acc: 0.0795 - val_loss: 15.0191 - val_acc: 0.0682\n",
            "Epoch 119/150\n",
            "176/176 [==============================] - 0s 87us/step - loss: 14.8360 - acc: 0.0795 - val_loss: 15.0191 - val_acc: 0.0682\n",
            "Epoch 120/150\n",
            "176/176 [==============================] - 0s 101us/step - loss: 14.8360 - acc: 0.0795 - val_loss: 15.0191 - val_acc: 0.0682\n",
            "Epoch 121/150\n",
            "176/176 [==============================] - 0s 74us/step - loss: 14.8360 - acc: 0.0795 - val_loss: 15.0191 - val_acc: 0.0682\n",
            "Epoch 122/150\n",
            "176/176 [==============================] - 0s 100us/step - loss: 14.8360 - acc: 0.0795 - val_loss: 15.0191 - val_acc: 0.0682\n",
            "Epoch 123/150\n",
            "176/176 [==============================] - 0s 83us/step - loss: 14.8360 - acc: 0.0795 - val_loss: 15.0191 - val_acc: 0.0682\n",
            "Epoch 124/150\n",
            "176/176 [==============================] - 0s 80us/step - loss: 14.8360 - acc: 0.0795 - val_loss: 15.0191 - val_acc: 0.0682\n",
            "Epoch 125/150\n",
            "176/176 [==============================] - 0s 98us/step - loss: 14.8360 - acc: 0.0795 - val_loss: 15.0191 - val_acc: 0.0682\n",
            "Epoch 126/150\n",
            "176/176 [==============================] - 0s 78us/step - loss: 14.8360 - acc: 0.0795 - val_loss: 15.0191 - val_acc: 0.0682\n",
            "Epoch 127/150\n",
            "176/176 [==============================] - 0s 69us/step - loss: 14.8360 - acc: 0.0795 - val_loss: 15.0191 - val_acc: 0.0682\n",
            "Epoch 128/150\n",
            "176/176 [==============================] - 0s 77us/step - loss: 14.8360 - acc: 0.0795 - val_loss: 15.0191 - val_acc: 0.0682\n",
            "Epoch 129/150\n",
            "176/176 [==============================] - 0s 90us/step - loss: 14.8360 - acc: 0.0795 - val_loss: 15.0191 - val_acc: 0.0682\n",
            "Epoch 130/150\n",
            "176/176 [==============================] - 0s 91us/step - loss: 14.8360 - acc: 0.0795 - val_loss: 15.0191 - val_acc: 0.0682\n",
            "Epoch 131/150\n",
            "176/176 [==============================] - 0s 110us/step - loss: 14.8360 - acc: 0.0795 - val_loss: 15.0191 - val_acc: 0.0682\n",
            "Epoch 132/150\n",
            "176/176 [==============================] - 0s 78us/step - loss: 14.8360 - acc: 0.0795 - val_loss: 15.0191 - val_acc: 0.0682\n",
            "Epoch 133/150\n",
            "176/176 [==============================] - 0s 90us/step - loss: 14.8360 - acc: 0.0795 - val_loss: 15.0191 - val_acc: 0.0682\n",
            "Epoch 134/150\n",
            "176/176 [==============================] - 0s 76us/step - loss: 14.8360 - acc: 0.0795 - val_loss: 15.0191 - val_acc: 0.0682\n",
            "Epoch 135/150\n",
            "176/176 [==============================] - 0s 85us/step - loss: 14.8360 - acc: 0.0795 - val_loss: 15.0191 - val_acc: 0.0682\n",
            "Epoch 136/150\n",
            "176/176 [==============================] - 0s 80us/step - loss: 14.8360 - acc: 0.0795 - val_loss: 15.0191 - val_acc: 0.0682\n",
            "Epoch 137/150\n",
            "176/176 [==============================] - 0s 79us/step - loss: 14.8360 - acc: 0.0795 - val_loss: 15.0191 - val_acc: 0.0682\n",
            "Epoch 138/150\n",
            "176/176 [==============================] - 0s 85us/step - loss: 14.8360 - acc: 0.0795 - val_loss: 15.0191 - val_acc: 0.0682\n",
            "Epoch 139/150\n",
            "176/176 [==============================] - 0s 91us/step - loss: 14.8360 - acc: 0.0795 - val_loss: 15.0191 - val_acc: 0.0682\n",
            "Epoch 140/150\n",
            "176/176 [==============================] - 0s 77us/step - loss: 14.8360 - acc: 0.0795 - val_loss: 15.0191 - val_acc: 0.0682\n",
            "Epoch 141/150\n",
            "176/176 [==============================] - 0s 95us/step - loss: 14.8360 - acc: 0.0795 - val_loss: 15.0191 - val_acc: 0.0682\n",
            "Epoch 142/150\n",
            "176/176 [==============================] - 0s 79us/step - loss: 14.8360 - acc: 0.0795 - val_loss: 15.0191 - val_acc: 0.0682\n",
            "Epoch 143/150\n",
            "176/176 [==============================] - 0s 87us/step - loss: 14.8360 - acc: 0.0795 - val_loss: 15.0191 - val_acc: 0.0682\n",
            "Epoch 144/150\n",
            "176/176 [==============================] - 0s 84us/step - loss: 14.8360 - acc: 0.0795 - val_loss: 15.0191 - val_acc: 0.0682\n",
            "Epoch 145/150\n",
            "176/176 [==============================] - 0s 109us/step - loss: 14.8360 - acc: 0.0795 - val_loss: 15.0191 - val_acc: 0.0682\n",
            "Epoch 146/150\n",
            "176/176 [==============================] - 0s 72us/step - loss: 14.8360 - acc: 0.0795 - val_loss: 15.0191 - val_acc: 0.0682\n",
            "Epoch 147/150\n",
            "176/176 [==============================] - 0s 71us/step - loss: 14.8360 - acc: 0.0795 - val_loss: 15.0191 - val_acc: 0.0682\n",
            "Epoch 148/150\n",
            "176/176 [==============================] - 0s 84us/step - loss: 14.8360 - acc: 0.0795 - val_loss: 15.0191 - val_acc: 0.0682\n",
            "Epoch 149/150\n",
            "176/176 [==============================] - 0s 94us/step - loss: 14.8360 - acc: 0.0795 - val_loss: 15.0191 - val_acc: 0.0682\n",
            "Epoch 150/150\n",
            "176/176 [==============================] - 0s 70us/step - loss: 14.8360 - acc: 0.0795 - val_loss: 15.0191 - val_acc: 0.0682\n"
          ],
          "name": "stdout"
        }
      ]
    },
    {
      "cell_type": "code",
      "metadata": {
        "id": "Gs3eHeuuNj8v",
        "colab_type": "code",
        "colab": {
          "base_uri": "https://localhost:8080/",
          "height": 295
        },
        "outputId": "2a1053cd-1b4e-422a-eba1-9bf03c30b6da"
      },
      "source": [
        "# \"Loss\"\n",
        "plt.plot(history.history['loss'])\n",
        "plt.plot(history.history['val_loss'])\n",
        "plt.title('model loss')\n",
        "plt.ylabel('loss')\n",
        "plt.xlabel('epoch')\n",
        "plt.legend(['train', 'validation'], loc='upper left')\n",
        "plt.show()"
      ],
      "execution_count": 34,
      "outputs": [
        {
          "output_type": "display_data",
          "data": {
            "image/png": "[encoded data removed]",
            "text/plain": [
              "<Figure size 432x288 with 1 Axes>"
            ]
          },
          "metadata": {
            "tags": []
          }
        }
      ]
    },
    {
      "cell_type": "code",
      "metadata": {
        "id": "NXshtZa2LywH",
        "colab_type": "code",
        "colab": {
          "base_uri": "https://localhost:8080/",
          "height": 531
        },
        "outputId": "dcfa4a79-8866-43d2-bf1e-f612deb9bb52"
      },
      "source": [
        "print(\"\\nTraining Results\")\n",
        "scoreRMSE(nnc, x_train, nn_train, plot = False) \n",
        "print(\"\\nEvaluation Results\")\n",
        "scoreRMSE(nnc, x_test, np_utils.to_categorical(y_test), plot = False)"
      ],
      "execution_count": 26,
      "outputs": [
        {
          "output_type": "stream",
          "text": [
            "\n",
            "Training Results\n"
          ],
          "name": "stdout"
        },
        {
          "output_type": "error",
          "ename": "AttributeError",
          "evalue": "ignored",
          "traceback": [
            "\u001b[0;31m---------------------------------------------------------------------------\u001b[0m",
            "\u001b[0;31mAttributeError\u001b[0m                            Traceback (most recent call last)",
            "\u001b[0;32m<ipython-input-26-eda8d1c67fd0>\u001b[0m in \u001b[0;36m<module>\u001b[0;34m()\u001b[0m\n\u001b[1;32m      1\u001b[0m \u001b[0mprint\u001b[0m\u001b[0;34m(\u001b[0m\u001b[0;34m\"\\nTraining Results\"\u001b[0m\u001b[0;34m)\u001b[0m\u001b[0;34m\u001b[0m\u001b[0;34m\u001b[0m\u001b[0m\n\u001b[0;32m----> 2\u001b[0;31m \u001b[0mscoreRMSE\u001b[0m\u001b[0;34m(\u001b[0m\u001b[0mnnc\u001b[0m\u001b[0;34m,\u001b[0m \u001b[0mx_train\u001b[0m\u001b[0;34m,\u001b[0m \u001b[0mnn_train\u001b[0m\u001b[0;34m,\u001b[0m \u001b[0mplot\u001b[0m \u001b[0;34m=\u001b[0m \u001b[0;32mFalse\u001b[0m\u001b[0;34m)\u001b[0m\u001b[0;34m\u001b[0m\u001b[0;34m\u001b[0m\u001b[0m\n\u001b[0m\u001b[1;32m      3\u001b[0m \u001b[0mprint\u001b[0m\u001b[0;34m(\u001b[0m\u001b[0;34m\"\\nEvaluation Results\"\u001b[0m\u001b[0;34m)\u001b[0m\u001b[0;34m\u001b[0m\u001b[0;34m\u001b[0m\u001b[0m\n\u001b[1;32m      4\u001b[0m \u001b[0mscoreRMSE\u001b[0m\u001b[0;34m(\u001b[0m\u001b[0mnnc\u001b[0m\u001b[0;34m,\u001b[0m \u001b[0mx_test\u001b[0m\u001b[0;34m,\u001b[0m \u001b[0mnp_utils\u001b[0m\u001b[0;34m.\u001b[0m\u001b[0mto_categorical\u001b[0m\u001b[0;34m(\u001b[0m\u001b[0my_test\u001b[0m\u001b[0;34m)\u001b[0m\u001b[0;34m,\u001b[0m \u001b[0mplot\u001b[0m \u001b[0;34m=\u001b[0m \u001b[0;32mFalse\u001b[0m\u001b[0;34m)\u001b[0m\u001b[0;34m\u001b[0m\u001b[0;34m\u001b[0m\u001b[0m\n",
            "\u001b[0;32m<ipython-input-5-efe827e9761c>\u001b[0m in \u001b[0;36mscoreRMSE\u001b[0;34m(predictor, X, true_y, plot)\u001b[0m\n\u001b[1;32m      9\u001b[0m         \u001b[0mplot\u001b[0m\u001b[0;34m:\u001b[0m \u001b[0monly\u001b[0m \u001b[0;32mfor\u001b[0m \u001b[0mboosting\u001b[0m\u001b[0;34m,\u001b[0m \u001b[0mplots\u001b[0m \u001b[0mf\u001b[0m\u001b[0;34m-\u001b[0m\u001b[0mscores\u001b[0m \u001b[0;32mfor\u001b[0m \u001b[0meach\u001b[0m \u001b[0mbooster\u001b[0m\u001b[0;34m\u001b[0m\u001b[0;34m\u001b[0m\u001b[0m\n\u001b[1;32m     10\u001b[0m     '''\n\u001b[0;32m---> 11\u001b[0;31m     \u001b[0mpredictions\u001b[0m \u001b[0;34m=\u001b[0m \u001b[0mpredictor\u001b[0m\u001b[0;34m.\u001b[0m\u001b[0mpredict\u001b[0m\u001b[0;34m(\u001b[0m\u001b[0mX\u001b[0m\u001b[0;34m)\u001b[0m\u001b[0;34m\u001b[0m\u001b[0;34m\u001b[0m\u001b[0m\n\u001b[0m\u001b[1;32m     12\u001b[0m     \u001b[0mprint\u001b[0m\u001b[0;34m(\u001b[0m\u001b[0;34m\"\\nModel Report\"\u001b[0m\u001b[0;34m)\u001b[0m\u001b[0;34m\u001b[0m\u001b[0;34m\u001b[0m\u001b[0m\n\u001b[1;32m     13\u001b[0m     \u001b[0mprint\u001b[0m \u001b[0;34m(\u001b[0m\u001b[0;34m\"RMSE Score : %f\"\u001b[0m \u001b[0;34m%\u001b[0m \u001b[0mnp\u001b[0m\u001b[0;34m.\u001b[0m\u001b[0msqrt\u001b[0m\u001b[0;34m(\u001b[0m\u001b[0mmean_squared_error\u001b[0m\u001b[0;34m(\u001b[0m\u001b[0mpredictions\u001b[0m\u001b[0;34m,\u001b[0m \u001b[0mtrue_y\u001b[0m\u001b[0;34m)\u001b[0m\u001b[0;34m)\u001b[0m\u001b[0;34m)\u001b[0m\u001b[0;34m\u001b[0m\u001b[0;34m\u001b[0m\u001b[0m\n",
            "\u001b[0;32m/usr/local/lib/python3.6/dist-packages/keras/wrappers/scikit_learn.py\u001b[0m in \u001b[0;36mpredict\u001b[0;34m(self, x, **kwargs)\u001b[0m\n\u001b[1;32m    227\u001b[0m         \u001b[0mkwargs\u001b[0m \u001b[0;34m=\u001b[0m \u001b[0mself\u001b[0m\u001b[0;34m.\u001b[0m\u001b[0mfilter_sk_params\u001b[0m\u001b[0;34m(\u001b[0m\u001b[0mSequential\u001b[0m\u001b[0;34m.\u001b[0m\u001b[0mpredict_classes\u001b[0m\u001b[0;34m,\u001b[0m \u001b[0mkwargs\u001b[0m\u001b[0;34m)\u001b[0m\u001b[0;34m\u001b[0m\u001b[0;34m\u001b[0m\u001b[0m\n\u001b[1;32m    228\u001b[0m \u001b[0;34m\u001b[0m\u001b[0m\n\u001b[0;32m--> 229\u001b[0;31m         \u001b[0mproba\u001b[0m \u001b[0;34m=\u001b[0m \u001b[0mself\u001b[0m\u001b[0;34m.\u001b[0m\u001b[0mmodel\u001b[0m\u001b[0;34m.\u001b[0m\u001b[0mpredict\u001b[0m\u001b[0;34m(\u001b[0m\u001b[0mx\u001b[0m\u001b[0;34m,\u001b[0m \u001b[0;34m**\u001b[0m\u001b[0mkwargs\u001b[0m\u001b[0;34m)\u001b[0m\u001b[0;34m\u001b[0m\u001b[0;34m\u001b[0m\u001b[0m\n\u001b[0m\u001b[1;32m    230\u001b[0m         \u001b[0;32mif\u001b[0m \u001b[0mproba\u001b[0m\u001b[0;34m.\u001b[0m\u001b[0mshape\u001b[0m\u001b[0;34m[\u001b[0m\u001b[0;34m-\u001b[0m\u001b[0;36m1\u001b[0m\u001b[0;34m]\u001b[0m \u001b[0;34m>\u001b[0m \u001b[0;36m1\u001b[0m\u001b[0;34m:\u001b[0m\u001b[0;34m\u001b[0m\u001b[0;34m\u001b[0m\u001b[0m\n\u001b[1;32m    231\u001b[0m             \u001b[0mclasses\u001b[0m \u001b[0;34m=\u001b[0m \u001b[0mproba\u001b[0m\u001b[0;34m.\u001b[0m\u001b[0margmax\u001b[0m\u001b[0;34m(\u001b[0m\u001b[0maxis\u001b[0m\u001b[0;34m=\u001b[0m\u001b[0;34m-\u001b[0m\u001b[0;36m1\u001b[0m\u001b[0;34m)\u001b[0m\u001b[0;34m\u001b[0m\u001b[0;34m\u001b[0m\u001b[0m\n",
            "\u001b[0;31mAttributeError\u001b[0m: 'KerasClassifier' object has no attribute 'model'"
          ]
        }
      ]
    },
    {
      "cell_type": "code",
      "metadata": {
        "id": "r_4-FKKlMI1S",
        "colab_type": "code",
        "colab": {}
      },
      "source": [
        ""
      ],
      "execution_count": 0,
      "outputs": []
    },
    {
      "cell_type": "markdown",
      "metadata": {
        "id": "04iOdWetOHio",
        "colab_type": "text"
      },
      "source": [
        "## Boosting"
      ]
    },
    {
      "cell_type": "code",
      "metadata": {
        "id": "BhYb2iiqOIi4",
        "colab_type": "code",
        "colab": {
          "base_uri": "https://localhost:8080/",
          "height": 54
        },
        "outputId": "1dd5f6cf-d5ee-47bd-85b6-412d1fa79aa5"
      },
      "source": [
        "params = {'subsample': 0.6, \n",
        "          'n_estimators': 50, \n",
        "          'min_child_weight': 1, \n",
        "          'max_depth': 5, \n",
        "          'gamma': 0, \n",
        "          'colsample_bytree': 1.0, \n",
        "          'alpha': 0}\n",
        "'''\n",
        "{\"objective\":\"multi:softmax\", \n",
        "          \"min_child_weight\": 4, \n",
        "          'colsample_bytree': 0.8,\n",
        "          'subsample': 0.8,\n",
        "          'learning_rate': 0.1,\n",
        "          'n_estimators': 200,\n",
        "          'max_depth': 5, \n",
        "          'gamma': 0.2,       \n",
        "          'alpha': 0,\n",
        "          'scale_pos_weight': 1,\n",
        "          'nthread' : 4,\n",
        "          'random_state': 123\n",
        "         }\n",
        "'''\n",
        "         "
      ],
      "execution_count": 45,
      "outputs": [
        {
          "output_type": "execute_result",
          "data": {
            "text/plain": [
              "'\\n{\"objective\":\"multi:softmax\", \\n          \"min_child_weight\": 4, \\n          \\'colsample_bytree\\': 0.8,\\n          \\'subsample\\': 0.8,\\n          \\'learning_rate\\': 0.1,\\n          \\'n_estimators\\': 200,\\n          \\'max_depth\\': 5, \\n          \\'gamma\\': 0.2,       \\n          \\'alpha\\': 0,\\n          \\'scale_pos_weight\\': 1,\\n          \\'nthread\\' : 4,\\n          \\'random_state\\': 123\\n         }\\n'"
            ]
          },
          "metadata": {
            "tags": []
          },
          "execution_count": 45
        }
      ]
    },
    {
      "cell_type": "code",
      "metadata": {
        "id": "jIM4IRpFONVR",
        "colab_type": "code",
        "colab": {
          "base_uri": "https://localhost:8080/",
          "height": 156
        },
        "outputId": "398aac8d-6559-4d19-a954-bc6b03a119e0"
      },
      "source": [
        "xgb = XGBClassifier(**params)\n",
        "\n",
        "print (\"learning...\")\n",
        "xgb.fit(x_train, y_train, eval_metric = 'merror')\n",
        "scores = cross_val_score(xgb, x_train, y_train, cv=10)\n",
        "print(scores)\n",
        "print(\"Mean Accuracy: \", np.mean(scores))\n",
        "print (\"done learning\")"
      ],
      "execution_count": 46,
      "outputs": [
        {
          "output_type": "stream",
          "text": [
            "learning...\n"
          ],
          "name": "stdout"
        },
        {
          "output_type": "stream",
          "text": [
            "/usr/local/lib/python3.6/dist-packages/sklearn/model_selection/_split.py:657: Warning: The least populated class in y has only 2 members, which is too few. The minimum number of members in any class cannot be less than n_splits=10.\n",
            "  % (min_groups, self.n_splits)), Warning)\n"
          ],
          "name": "stderr"
        },
        {
          "output_type": "stream",
          "text": [
            "[0.63157895 0.64864865 0.51515152 0.51724138 0.72       0.61111111\n",
            " 0.57142857 0.63636364 0.875      0.85714286]\n",
            "Mean Accuracy:  0.6583666666525105\n",
            "done learning\n"
          ],
          "name": "stdout"
        }
      ]
    },
    {
      "cell_type": "code",
      "metadata": {
        "id": "lifvS_rGOqB6",
        "colab_type": "code",
        "colab": {}
      },
      "source": [
        "# tuning grid\n",
        "param_grid = {\n",
        "          \"min_child_weight\": [1, 2, 3, 4, 5], \n",
        "          'colsample_bytree': [0.8, 1.0],\n",
        "          'subsample': [0.6, 0.8],\n",
        "          #'learning_rate': 0.1,\n",
        "          'n_estimators': [50, 100, 150, 200],\n",
        "          'max_depth': [3,5,7], \n",
        "          'gamma': [0, 0.2],       \n",
        "          'alpha': [0, 0.2],\n",
        "          #'scale_pos_weight': 1,\n",
        "          #'nthread' : 4,\n",
        "          #'random_state': 123\n",
        "         }"
      ],
      "execution_count": 0,
      "outputs": []
    },
    {
      "cell_type": "code",
      "metadata": {
        "id": "yKN6Du1bOcUJ",
        "colab_type": "code",
        "colab": {
          "base_uri": "https://localhost:8080/",
          "height": 1000
        },
        "outputId": "dc850f4d-1134-4215-f358-e578d32266e1"
      },
      "source": [
        "# random search\n",
        "xgb_random = RandomizedSearchCV(estimator = XGBClassifier(**params), param_distributions = param_grid, cv = 5, verbose = 2, random_state = 1022, n_jobs = -1)\n",
        "print (\"learning...\")\n",
        "xgb_random.fit(x_train, y_train)\n",
        "print(xgb_random.best_params_) \n",
        "scores = cross_val_score(xgb_random, x_train, y_train, cv=10)\n",
        "print(scores)\n",
        "print(\"Mean Accuracy: \", np.mean(scores))\n",
        "print (\"done learning\")"
      ],
      "execution_count": 42,
      "outputs": [
        {
          "output_type": "stream",
          "text": [
            "learning...\n",
            "Fitting 5 folds for each of 10 candidates, totalling 50 fits\n"
          ],
          "name": "stdout"
        },
        {
          "output_type": "stream",
          "text": [
            "/usr/local/lib/python3.6/dist-packages/sklearn/model_selection/_split.py:657: Warning: The least populated class in y has only 2 members, which is too few. The minimum number of members in any class cannot be less than n_splits=5.\n",
            "  % (min_groups, self.n_splits)), Warning)\n",
            "[Parallel(n_jobs=-1)]: Using backend LokyBackend with 2 concurrent workers.\n",
            "[Parallel(n_jobs=-1)]: Done  37 tasks      | elapsed:   46.1s\n",
            "[Parallel(n_jobs=-1)]: Done  50 out of  50 | elapsed:  1.0min finished\n",
            "/usr/local/lib/python3.6/dist-packages/sklearn/model_selection/_search.py:814: DeprecationWarning: The default of the `iid` parameter will change from True to False in version 0.22 and will be removed in 0.24. This will change numeric results when test-set sizes are unequal.\n",
            "  DeprecationWarning)\n"
          ],
          "name": "stderr"
        },
        {
          "output_type": "stream",
          "text": [
            "{'subsample': 0.6, 'n_estimators': 50, 'min_child_weight': 1, 'max_depth': 5, 'gamma': 0, 'colsample_bytree': 1.0, 'alpha': 0}\n"
          ],
          "name": "stdout"
        },
        {
          "output_type": "stream",
          "text": [
            "/usr/local/lib/python3.6/dist-packages/sklearn/model_selection/_split.py:657: Warning: The least populated class in y has only 2 members, which is too few. The minimum number of members in any class cannot be less than n_splits=10.\n",
            "  % (min_groups, self.n_splits)), Warning)\n"
          ],
          "name": "stderr"
        },
        {
          "output_type": "stream",
          "text": [
            "Fitting 5 folds for each of 10 candidates, totalling 50 fits\n"
          ],
          "name": "stdout"
        },
        {
          "output_type": "stream",
          "text": [
            "/usr/local/lib/python3.6/dist-packages/sklearn/model_selection/_split.py:657: Warning: The least populated class in y has only 1 members, which is too few. The minimum number of members in any class cannot be less than n_splits=5.\n",
            "  % (min_groups, self.n_splits)), Warning)\n",
            "[Parallel(n_jobs=-1)]: Using backend LokyBackend with 2 concurrent workers.\n",
            "[Parallel(n_jobs=-1)]: Done  37 tasks      | elapsed:   40.3s\n",
            "[Parallel(n_jobs=-1)]: Done  50 out of  50 | elapsed:   53.6s finished\n",
            "/usr/local/lib/python3.6/dist-packages/sklearn/model_selection/_search.py:814: DeprecationWarning: The default of the `iid` parameter will change from True to False in version 0.22 and will be removed in 0.24. This will change numeric results when test-set sizes are unequal.\n",
            "  DeprecationWarning)\n"
          ],
          "name": "stderr"
        },
        {
          "output_type": "stream",
          "text": [
            "Fitting 5 folds for each of 10 candidates, totalling 50 fits\n"
          ],
          "name": "stdout"
        },
        {
          "output_type": "stream",
          "text": [
            "/usr/local/lib/python3.6/dist-packages/sklearn/model_selection/_split.py:657: Warning: The least populated class in y has only 1 members, which is too few. The minimum number of members in any class cannot be less than n_splits=5.\n",
            "  % (min_groups, self.n_splits)), Warning)\n",
            "[Parallel(n_jobs=-1)]: Using backend LokyBackend with 2 concurrent workers.\n",
            "[Parallel(n_jobs=-1)]: Done  37 tasks      | elapsed:   40.0s\n",
            "[Parallel(n_jobs=-1)]: Done  50 out of  50 | elapsed:   53.3s finished\n",
            "/usr/local/lib/python3.6/dist-packages/sklearn/model_selection/_search.py:814: DeprecationWarning: The default of the `iid` parameter will change from True to False in version 0.22 and will be removed in 0.24. This will change numeric results when test-set sizes are unequal.\n",
            "  DeprecationWarning)\n"
          ],
          "name": "stderr"
        },
        {
          "output_type": "stream",
          "text": [
            "Fitting 5 folds for each of 10 candidates, totalling 50 fits\n"
          ],
          "name": "stdout"
        },
        {
          "output_type": "stream",
          "text": [
            "/usr/local/lib/python3.6/dist-packages/sklearn/model_selection/_split.py:657: Warning: The least populated class in y has only 2 members, which is too few. The minimum number of members in any class cannot be less than n_splits=5.\n",
            "  % (min_groups, self.n_splits)), Warning)\n",
            "[Parallel(n_jobs=-1)]: Using backend LokyBackend with 2 concurrent workers.\n",
            "[Parallel(n_jobs=-1)]: Done  37 tasks      | elapsed:   40.9s\n",
            "[Parallel(n_jobs=-1)]: Done  50 out of  50 | elapsed:   54.8s finished\n",
            "/usr/local/lib/python3.6/dist-packages/sklearn/model_selection/_search.py:814: DeprecationWarning: The default of the `iid` parameter will change from True to False in version 0.22 and will be removed in 0.24. This will change numeric results when test-set sizes are unequal.\n",
            "  DeprecationWarning)\n"
          ],
          "name": "stderr"
        },
        {
          "output_type": "stream",
          "text": [
            "Fitting 5 folds for each of 10 candidates, totalling 50 fits\n"
          ],
          "name": "stdout"
        },
        {
          "output_type": "stream",
          "text": [
            "/usr/local/lib/python3.6/dist-packages/sklearn/model_selection/_split.py:657: Warning: The least populated class in y has only 2 members, which is too few. The minimum number of members in any class cannot be less than n_splits=5.\n",
            "  % (min_groups, self.n_splits)), Warning)\n",
            "[Parallel(n_jobs=-1)]: Using backend LokyBackend with 2 concurrent workers.\n",
            "[Parallel(n_jobs=-1)]: Done  37 tasks      | elapsed:   41.3s\n",
            "[Parallel(n_jobs=-1)]: Done  50 out of  50 | elapsed:   55.0s finished\n",
            "/usr/local/lib/python3.6/dist-packages/sklearn/model_selection/_search.py:814: DeprecationWarning: The default of the `iid` parameter will change from True to False in version 0.22 and will be removed in 0.24. This will change numeric results when test-set sizes are unequal.\n",
            "  DeprecationWarning)\n"
          ],
          "name": "stderr"
        },
        {
          "output_type": "stream",
          "text": [
            "Fitting 5 folds for each of 10 candidates, totalling 50 fits\n"
          ],
          "name": "stdout"
        },
        {
          "output_type": "stream",
          "text": [
            "/usr/local/lib/python3.6/dist-packages/sklearn/model_selection/_split.py:657: Warning: The least populated class in y has only 2 members, which is too few. The minimum number of members in any class cannot be less than n_splits=5.\n",
            "  % (min_groups, self.n_splits)), Warning)\n",
            "[Parallel(n_jobs=-1)]: Using backend LokyBackend with 2 concurrent workers.\n",
            "[Parallel(n_jobs=-1)]: Done  37 tasks      | elapsed:   41.7s\n",
            "[Parallel(n_jobs=-1)]: Done  50 out of  50 | elapsed:   55.8s finished\n",
            "/usr/local/lib/python3.6/dist-packages/sklearn/model_selection/_search.py:814: DeprecationWarning: The default of the `iid` parameter will change from True to False in version 0.22 and will be removed in 0.24. This will change numeric results when test-set sizes are unequal.\n",
            "  DeprecationWarning)\n"
          ],
          "name": "stderr"
        },
        {
          "output_type": "stream",
          "text": [
            "Fitting 5 folds for each of 10 candidates, totalling 50 fits\n"
          ],
          "name": "stdout"
        },
        {
          "output_type": "stream",
          "text": [
            "/usr/local/lib/python3.6/dist-packages/sklearn/model_selection/_split.py:657: Warning: The least populated class in y has only 2 members, which is too few. The minimum number of members in any class cannot be less than n_splits=5.\n",
            "  % (min_groups, self.n_splits)), Warning)\n",
            "[Parallel(n_jobs=-1)]: Using backend LokyBackend with 2 concurrent workers.\n",
            "[Parallel(n_jobs=-1)]: Done  37 tasks      | elapsed:   43.0s\n",
            "[Parallel(n_jobs=-1)]: Done  50 out of  50 | elapsed:   57.3s finished\n",
            "/usr/local/lib/python3.6/dist-packages/sklearn/model_selection/_search.py:814: DeprecationWarning: The default of the `iid` parameter will change from True to False in version 0.22 and will be removed in 0.24. This will change numeric results when test-set sizes are unequal.\n",
            "  DeprecationWarning)\n"
          ],
          "name": "stderr"
        },
        {
          "output_type": "stream",
          "text": [
            "Fitting 5 folds for each of 10 candidates, totalling 50 fits\n"
          ],
          "name": "stdout"
        },
        {
          "output_type": "stream",
          "text": [
            "/usr/local/lib/python3.6/dist-packages/sklearn/model_selection/_split.py:657: Warning: The least populated class in y has only 2 members, which is too few. The minimum number of members in any class cannot be less than n_splits=5.\n",
            "  % (min_groups, self.n_splits)), Warning)\n",
            "[Parallel(n_jobs=-1)]: Using backend LokyBackend with 2 concurrent workers.\n",
            "[Parallel(n_jobs=-1)]: Done  37 tasks      | elapsed:   43.8s\n",
            "[Parallel(n_jobs=-1)]: Done  50 out of  50 | elapsed:   58.4s finished\n",
            "/usr/local/lib/python3.6/dist-packages/sklearn/model_selection/_search.py:814: DeprecationWarning: The default of the `iid` parameter will change from True to False in version 0.22 and will be removed in 0.24. This will change numeric results when test-set sizes are unequal.\n",
            "  DeprecationWarning)\n"
          ],
          "name": "stderr"
        },
        {
          "output_type": "stream",
          "text": [
            "Fitting 5 folds for each of 10 candidates, totalling 50 fits\n"
          ],
          "name": "stdout"
        },
        {
          "output_type": "stream",
          "text": [
            "/usr/local/lib/python3.6/dist-packages/sklearn/model_selection/_split.py:657: Warning: The least populated class in y has only 2 members, which is too few. The minimum number of members in any class cannot be less than n_splits=5.\n",
            "  % (min_groups, self.n_splits)), Warning)\n",
            "[Parallel(n_jobs=-1)]: Using backend LokyBackend with 2 concurrent workers.\n",
            "[Parallel(n_jobs=-1)]: Done  37 tasks      | elapsed:   44.0s\n",
            "[Parallel(n_jobs=-1)]: Done  50 out of  50 | elapsed:   58.6s finished\n",
            "/usr/local/lib/python3.6/dist-packages/sklearn/model_selection/_search.py:814: DeprecationWarning: The default of the `iid` parameter will change from True to False in version 0.22 and will be removed in 0.24. This will change numeric results when test-set sizes are unequal.\n",
            "  DeprecationWarning)\n"
          ],
          "name": "stderr"
        },
        {
          "output_type": "stream",
          "text": [
            "Fitting 5 folds for each of 10 candidates, totalling 50 fits\n"
          ],
          "name": "stdout"
        },
        {
          "output_type": "stream",
          "text": [
            "/usr/local/lib/python3.6/dist-packages/sklearn/model_selection/_split.py:657: Warning: The least populated class in y has only 2 members, which is too few. The minimum number of members in any class cannot be less than n_splits=5.\n",
            "  % (min_groups, self.n_splits)), Warning)\n",
            "[Parallel(n_jobs=-1)]: Using backend LokyBackend with 2 concurrent workers.\n",
            "[Parallel(n_jobs=-1)]: Done  37 tasks      | elapsed:   44.7s\n",
            "[Parallel(n_jobs=-1)]: Done  50 out of  50 | elapsed:   59.5s finished\n",
            "/usr/local/lib/python3.6/dist-packages/sklearn/model_selection/_search.py:814: DeprecationWarning: The default of the `iid` parameter will change from True to False in version 0.22 and will be removed in 0.24. This will change numeric results when test-set sizes are unequal.\n",
            "  DeprecationWarning)\n"
          ],
          "name": "stderr"
        },
        {
          "output_type": "stream",
          "text": [
            "Fitting 5 folds for each of 10 candidates, totalling 50 fits\n"
          ],
          "name": "stdout"
        },
        {
          "output_type": "stream",
          "text": [
            "/usr/local/lib/python3.6/dist-packages/sklearn/model_selection/_split.py:657: Warning: The least populated class in y has only 2 members, which is too few. The minimum number of members in any class cannot be less than n_splits=5.\n",
            "  % (min_groups, self.n_splits)), Warning)\n",
            "[Parallel(n_jobs=-1)]: Using backend LokyBackend with 2 concurrent workers.\n",
            "[Parallel(n_jobs=-1)]: Done  37 tasks      | elapsed:   44.8s\n",
            "[Parallel(n_jobs=-1)]: Done  50 out of  50 | elapsed:   59.5s finished\n",
            "/usr/local/lib/python3.6/dist-packages/sklearn/model_selection/_search.py:814: DeprecationWarning: The default of the `iid` parameter will change from True to False in version 0.22 and will be removed in 0.24. This will change numeric results when test-set sizes are unequal.\n",
            "  DeprecationWarning)\n"
          ],
          "name": "stderr"
        },
        {
          "output_type": "stream",
          "text": [
            "[0.68421053 0.62162162 0.54545455 0.51724138 0.68       0.55555556\n",
            " 0.64285714 0.54545455 0.875      0.85714286]\n",
            "Mean Accuracy:  0.6524538173712402\n",
            "done learning\n"
          ],
          "name": "stdout"
        }
      ]
    },
    {
      "cell_type": "code",
      "metadata": {
        "id": "X0K-3tmbRtiN",
        "colab_type": "code",
        "colab": {
          "base_uri": "https://localhost:8080/",
          "height": 221
        },
        "outputId": "41997d2a-9179-4a75-97d7-9f00c4051ad7"
      },
      "source": [
        "print(\"\\nTraining Results\")\n",
        "scoreRMSE(xgb_random, x_train, y_train, plot = False) \n",
        "print(\"\\nEvaluation Results\")\n",
        "scoreRMSE(xgb_random, x_test, y_test, plot = False)"
      ],
      "execution_count": 54,
      "outputs": [
        {
          "output_type": "stream",
          "text": [
            "\n",
            "Training Results\n",
            "\n",
            "Model Report\n",
            "RMSE Score : 3.334394\n",
            "Accuracy : 90.45 %\n",
            "\n",
            "Evaluation Results\n",
            "\n",
            "Model Report\n",
            "RMSE Score : 8.291969\n",
            "Accuracy : 48.65 %\n"
          ],
          "name": "stdout"
        }
      ]
    },
    {
      "cell_type": "code",
      "metadata": {
        "id": "AtOp7dVGOPsM",
        "colab_type": "code",
        "colab": {
          "base_uri": "https://localhost:8080/",
          "height": 824
        },
        "outputId": "9970dd13-811e-4296-f061-16dd92102fc1"
      },
      "source": [
        "print(\"\\nTraining Results\")\n",
        "scoreRMSE(xgb, x_train, y_train, plot = True) "
      ],
      "execution_count": 57,
      "outputs": [
        {
          "output_type": "stream",
          "text": [
            "\n",
            "Training Results\n",
            "\n",
            "Model Report\n",
            "RMSE Score : 3.500649\n",
            "Accuracy : 90.45 %\n",
            "\n",
            "Evaluation Results\n"
          ],
          "name": "stdout"
        },
        {
          "output_type": "display_data",
          "data": {
            "image/png": "[encoded data removed]",
            "text/plain": [
              "<Figure size 1440x720 with 1 Axes>"
            ]
          },
          "metadata": {
            "tags": []
          }
        }
      ]
    },
    {
      "cell_type": "code",
      "metadata": {
        "id": "bgifF7zlXnGP",
        "colab_type": "code",
        "colab": {
          "base_uri": "https://localhost:8080/",
          "height": 790
        },
        "outputId": "c4f6e1c5-2664-4307-fa22-d069ec73d568"
      },
      "source": [
        "print(\"\\nEvaluation Results\")\n",
        "scoreRMSE(xgb, x_test, y_test, plot = True)"
      ],
      "execution_count": 59,
      "outputs": [
        {
          "output_type": "stream",
          "text": [
            "\n",
            "Evaluation Results\n",
            "\n",
            "Model Report\n",
            "RMSE Score : 8.124038\n",
            "Accuracy : 44.59 %\n"
          ],
          "name": "stdout"
        },
        {
          "output_type": "display_data",
          "data": {
            "image/png": "[encoded data removed]",
            "text/plain": [
              "<Figure size 1440x720 with 1 Axes>"
            ]
          },
          "metadata": {
            "tags": []
          }
        }
      ]
    },
    {
      "cell_type": "code",
      "metadata": {
        "id": "ONvzp_jCXsM5",
        "colab_type": "code",
        "colab": {}
      },
      "source": [
        ""
      ],
      "execution_count": 0,
      "outputs": []
    }
  ]
}