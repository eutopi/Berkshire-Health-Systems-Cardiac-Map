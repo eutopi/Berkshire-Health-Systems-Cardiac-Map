{
  "nbformat": 4,
  "nbformat_minor": 0,
  "metadata": {
    "colab": {
      "name": "SemiSupervisedandUnsupervised.ipynb",
      "provenance": [],
      "collapsed_sections": [],
      "toc_visible": true
    },
    "kernelspec": {
      "name": "python3",
      "display_name": "Python 3"
    }
  },
  "cells": [
    {
      "cell_type": "markdown",
      "metadata": {
        "id": "XfeiFv_FQZE6",
        "colab_type": "text"
      },
      "source": [
        "# Unsupervised Learning and Semi-Supervised Models\n",
        "Working with unlabeled and semi-labeled patient data since we cannot assume most clients have chosen a desired clinic to frequent."
      ]
    },
    {
      "cell_type": "code",
      "metadata": {
        "id": "UuNSIMSvQM9n",
        "colab_type": "code",
        "outputId": "bfb3dda8-f326-4c66-d644-2ae45529e585",
        "colab": {
          "base_uri": "https://localhost:8080/",
          "height": 80
        }
      },
      "source": [
        "# Import libraries\n",
        "import numpy as np\n",
        "import pandas as pd\n",
        "from sklearn import metrics\n",
        "from sklearn.metrics import mean_squared_error\n",
        "import matplotlib\n",
        "import matplotlib.pyplot as plt\n",
        "import matplotlib.cm as cmx\n",
        "import matplotlib.colors as colors\n",
        "import scipy as sp\n",
        "%matplotlib inline\n",
        "\n",
        "from collections import Counter\n",
        "\n",
        "from sklearn.model_selection import KFold\n",
        "from sklearn.model_selection import cross_val_score\n",
        "\n",
        "from sklearn.linear_model import LogisticRegression\n",
        "from sklearn.linear_model import LogisticRegressionCV\n",
        "from sklearn.svm import SVC\n",
        "from sklearn.naive_bayes import MultinomialNB\n",
        "from sklearn.ensemble import RandomForestClassifier\n",
        "from sklearn.neighbors import KNeighborsClassifier as KNN\n",
        "\n",
        "from sklearn.decomposition import PCA\n",
        "\n",
        "import xgboost as xgb\n",
        "from xgboost import XGBClassifier\n",
        "\n",
        "from sklearn.model_selection import RandomizedSearchCV\n",
        "\n",
        "# Keras neural net imports\n",
        "from keras.models import Sequential\n",
        "from keras.layers import Dense, Dropout, Activation, Flatten\n",
        "from keras.utils import np_utils\n",
        "from keras.wrappers.scikit_learn import KerasClassifier\n",
        "from keras.layers.convolutional import Convolution1D\n",
        "\n",
        "# libraries for boosting\n",
        "import xgboost as xgb\n",
        "from xgboost.sklearn import XGBClassifier\n",
        "from sklearn.model_selection import GridSearchCV\n",
        "from sklearn.model_selection import train_test_split"
      ],
      "execution_count": 0,
      "outputs": [
        {
          "output_type": "stream",
          "text": [
            "Using TensorFlow backend.\n"
          ],
          "name": "stderr"
        },
        {
          "output_type": "display_data",
          "data": {
            "text/html": [
              "<p style=\"color: red;\">\n",
              "The default version of TensorFlow in Colab will soon switch to TensorFlow 2.x.<br>\n",
              "We recommend you <a href=\"https://www.tensorflow.org/guide/migrate\" target=\"_blank\">upgrade</a> now \n",
              "or ensure your notebook will continue to use TensorFlow 1.x via the <code>%tensorflow_version 1.x</code> magic:\n",
              "<a href=\"https://colab.research.google.com/notebooks/tensorflow_version.ipynb\" target=\"_blank\">more info</a>.</p>\n"
            ],
            "text/plain": [
              "<IPython.core.display.HTML object>"
            ]
          },
          "metadata": {
            "tags": []
          }
        }
      ]
    },
    {
      "cell_type": "markdown",
      "metadata": {
        "id": "rbDkZftCQtmg",
        "colab_type": "text"
      },
      "source": [
        "## Preprocessing\n",
        "Make sure data are in the directory"
      ]
    },
    {
      "cell_type": "code",
      "metadata": {
        "id": "ay0NFvWsQqMo",
        "colab_type": "code",
        "colab": {}
      },
      "source": [
        "# Load training and test sets in current working directory\n",
        "x_train = pd.read_csv(\"x_train.csv\").drop('Unnamed: 0', axis=1)\n",
        "# get rid of unnamed first column and unravel (n,1) into dim (n,)\n",
        "y_train = pd.read_csv(\"y_train.csv\").drop('Unnamed: 0', axis=1).values.ravel()\n",
        "x_test = pd.read_csv(\"x_test.csv\").drop('Unnamed: 0', axis=1)\n",
        "y_test = pd.read_csv(\"y_test.csv\").drop('Unnamed: 0', axis=1).values.ravel()"
      ],
      "execution_count": 0,
      "outputs": []
    },
    {
      "cell_type": "code",
      "metadata": {
        "id": "9QVVE3QhSsoX",
        "colab_type": "code",
        "colab": {}
      },
      "source": [
        "x_combined = pd.concat([x_train,x_test], axis=0)"
      ],
      "execution_count": 0,
      "outputs": []
    },
    {
      "cell_type": "code",
      "metadata": {
        "id": "NMM91JRGQ5nZ",
        "colab_type": "code",
        "colab": {}
      },
      "source": [
        "f_x_train = pd.read_csv(\"filtered_x_train.csv\").drop('Unnamed: 0', axis=1)\n",
        "f_x_test = pd.read_csv(\"filtered_x_test.csv\").drop('Unnamed: 0', axis=1)"
      ],
      "execution_count": 0,
      "outputs": []
    },
    {
      "cell_type": "code",
      "metadata": {
        "id": "rRmhPMriQ9vN",
        "colab_type": "code",
        "colab": {}
      },
      "source": [
        "import time\n",
        "import math\n",
        "\n",
        "\n",
        "def asMinutes(s):\n",
        "    m = math.floor(s / 60)\n",
        "    s -= m * 60\n",
        "    return '%dm %ds' % (m, s)\n",
        "\n",
        "\n",
        "def timeSince(since):\n",
        "    now = time.time()\n",
        "    s = now - since\n",
        "    return 'Time elapsed: %s (%s to %s)' % (asMinutes(s), asMinutes(since), asMinutes(now))"
      ],
      "execution_count": 0,
      "outputs": []
    },
    {
      "cell_type": "code",
      "metadata": {
        "id": "uqqbiIlCRJrg",
        "colab_type": "code",
        "colab": {}
      },
      "source": [
        "def scoreRMSE(predictor, X, true_y, plot = True):\n",
        "    '''\n",
        "    function to compute root mean squared error as well as prediction accuracy\n",
        "\n",
        "    @args:\n",
        "        predictor: model\n",
        "        X: test input data\n",
        "        true_y: true y labels for test data\n",
        "        plot: only for boosting, plots f-scores for each booster\n",
        "    '''\n",
        "    predictions = predictor.predict(X)\n",
        "    print(\"\\nModel Report\")\n",
        "    print (\"RMSE Score : %f\" % np.sqrt(mean_squared_error(predictions, true_y)))\n",
        "    accuracy = metrics.accuracy_score(predictions, true_y) * 100\n",
        "    print(\"Accuracy : %.4g\" % accuracy, '%')         \n",
        "\n",
        "    if plot:\n",
        "        # Print f-score:    \n",
        "        feat_imp = pd.Series(predictor.get_booster().get_fscore()).sort_values(ascending=False)\n",
        "        feat_imp.plot(kind='bar', title='f-score', figsize = (20, 10))\n",
        "        plt.ylabel('f-score')"
      ],
      "execution_count": 0,
      "outputs": []
    },
    {
      "cell_type": "code",
      "metadata": {
        "id": "mcSMvralRN_A",
        "colab_type": "code",
        "colab": {}
      },
      "source": [
        ""
      ],
      "execution_count": 0,
      "outputs": []
    },
    {
      "cell_type": "markdown",
      "metadata": {
        "id": "BBjYHW-EROTY",
        "colab_type": "text"
      },
      "source": [
        "## Semisupervised: PCA\n",
        "Perform PCA on labelled and unlabelled data. Use the fitted PCA to transform labelled data, which is used as input for training."
      ]
    },
    {
      "cell_type": "code",
      "metadata": {
        "id": "KLRS2RO7RLgC",
        "colab_type": "code",
        "colab": {}
      },
      "source": [
        "n_components = 8\n",
        "pca = PCA(n_components=n_components, whiten=False)\n",
        "\n",
        "start = time.time()\n",
        "\n",
        "# fit using all input data\n",
        "pca.fit(x_combined)\n",
        "\n",
        "# generate transformed projections for combined x, x_train, and x_test\n",
        "x_pca = pca.transform(x_train)\n",
        "x_train_pca = pd.DataFrame(x_pca)\n",
        "x_pca = pca.transform(x_test)\n",
        "x_test_pca = pd.DataFrame(x_pca)\n",
        "x_pca = pca.transform(x_combined)\n",
        "x_combined_pca = pd.DataFrame(x_pca)"
      ],
      "execution_count": 0,
      "outputs": []
    },
    {
      "cell_type": "code",
      "metadata": {
        "id": "PXpKH7cvRPFl",
        "colab_type": "code",
        "colab": {}
      },
      "source": [
        "plt.figure()\n",
        "plt.plot(np.cumsum(pca.explained_variance_ratio_))\n",
        "plt.xlabel('Number of Components')\n",
        "plt.ylabel('Variance (%)')\n",
        "plt.title('Dataset Explained Variance')\n",
        "plt.show()"
      ],
      "execution_count": 0,
      "outputs": []
    },
    {
      "cell_type": "markdown",
      "metadata": {
        "id": "ws233EuLTsNB",
        "colab_type": "text"
      },
      "source": [
        "### Supervised Training on PCA projections"
      ]
    },
    {
      "cell_type": "code",
      "metadata": {
        "id": "Le6OQZl1SaU-",
        "colab_type": "code",
        "colab": {}
      },
      "source": [
        "from sklearn.ensemble import RandomForestRegressor\n",
        "from sklearn.model_selection import RandomizedSearchCV\n",
        "\n",
        "\n",
        "# Number of trees in random forest\n",
        "n_estimators = n_estimators = list(range(10, 100, 10))\n",
        "\n",
        "# Number of features to consider at every split\n",
        "max_features = ['auto', 'sqrt']\n",
        "# Maximum number of levels in tree\n",
        "max_depth = list(range(10, 30, 10))\n",
        "max_depth.append(None)\n",
        "# Minimum number of samples required to split a node\n",
        "min_samples_split = [2, 5, 10]\n",
        "# Minimum number of samples required at each leaf node\n",
        "min_samples_leaf = [1, 2, 4]\n",
        "# Method of selecting samples for training each tree\n",
        "bootstrap = [True, False]\n",
        "\n",
        "random_grid = {'n_estimators': n_estimators,\n",
        "               'max_features': max_features,\n",
        "               'max_depth': max_depth,\n",
        "               'min_samples_split': min_samples_split,\n",
        "               'min_samples_leaf': min_samples_leaf,\n",
        "               'bootstrap': bootstrap}"
      ],
      "execution_count": 0,
      "outputs": []
    },
    {
      "cell_type": "code",
      "metadata": {
        "id": "ryMf3xWoTKSP",
        "colab_type": "code",
        "colab": {}
      },
      "source": [
        "print (\"learning...\")\n",
        "rfc = RandomForestClassifier(min_samples_split=10)\n",
        "rf_random = RandomizedSearchCV(estimator = rfc, param_distributions = random_grid, n_iter = 100, cv = 5, verbose=2, random_state=42, n_jobs = -1)\n",
        "\n",
        "rf_random.fit(x_train_pca, y_train)\n",
        "print(rf_random.best_params_) #{'bootstrap': True, 'max_features': 'sqrt', 'min_samples_split': 2, 'max_depth': 30, 'n_estimators': 300, 'min_samples_leaf': 2}\n",
        "print(\"\\nTraining Results\")\n",
        "scoreRMSE(rf_random, x_train_pca, y_train, plot = False) \n",
        "print(\"\\nEvaluation Results\")\n",
        "scoreRMSE(rf_random, x_test_pca, y_test, plot = False)\n",
        "print (\"done learning\")"
      ],
      "execution_count": 0,
      "outputs": []
    },
    {
      "cell_type": "code",
      "metadata": {
        "id": "ui0gAOkeT43y",
        "colab_type": "code",
        "colab": {}
      },
      "source": [
        ""
      ],
      "execution_count": 0,
      "outputs": []
    },
    {
      "cell_type": "markdown",
      "metadata": {
        "id": "PMkFE6-GVIDZ",
        "colab_type": "text"
      },
      "source": [
        "## Active Learning/Pseudo-labeling\n",
        "Train supervised model on labelled data to provide pseudo-labels for unlabelled data. Then train a fresh model on the combined labelled and pseudo-labeled data"
      ]
    },
    {
      "cell_type": "code",
      "metadata": {
        "id": "KRRW7YNHVGyZ",
        "colab_type": "code",
        "colab": {}
      },
      "source": [
        "# we build off of our PCA work and use pca data\n",
        "\n",
        "# pseudo labels predicted by model\n",
        "y_test_ps = rf_random.predict(x_test_pca)\n",
        "\n",
        "# concat labelled and model-labelled data\n",
        "y_combined_ps = np.concatenate([y_train,y_test_ps], axis=0)"
      ],
      "execution_count": 0,
      "outputs": []
    },
    {
      "cell_type": "code",
      "metadata": {
        "id": "MfymZAd1WmAR",
        "colab_type": "code",
        "colab": {}
      },
      "source": [
        "from sklearn.ensemble import RandomForestRegressor\n",
        "from sklearn.model_selection import RandomizedSearchCV\n",
        "\n",
        "\n",
        "# Number of trees in random forest\n",
        "n_estimators = n_estimators = list(range(10, 100, 10))\n",
        "\n",
        "# Number of features to consider at every split\n",
        "max_features = ['auto', 'sqrt']\n",
        "# Maximum number of levels in tree\n",
        "max_depth = list(range(10, 30, 10))\n",
        "max_depth.append(None)\n",
        "# Minimum number of samples required to split a node\n",
        "min_samples_split = [2, 5, 10]\n",
        "# Minimum number of samples required at each leaf node\n",
        "min_samples_leaf = [1, 2, 4]\n",
        "# Method of selecting samples for training each tree\n",
        "bootstrap = [True, False]\n",
        "\n",
        "random_grid = {'n_estimators': n_estimators,\n",
        "               'max_features': max_features,\n",
        "               'max_depth': max_depth,\n",
        "               'min_samples_split': min_samples_split,\n",
        "               'min_samples_leaf': min_samples_leaf,\n",
        "               'bootstrap': bootstrap}"
      ],
      "execution_count": 0,
      "outputs": []
    },
    {
      "cell_type": "code",
      "metadata": {
        "id": "eUep3LwMXAbR",
        "colab_type": "code",
        "colab": {}
      },
      "source": [
        "print (\"learning...\")\n",
        "rfc = RandomForestClassifier(min_samples_split=10)\n",
        "rf_rand_ps = RandomizedSearchCV(estimator = rfc, param_distributions = random_grid, n_iter = 100, cv = 5, verbose=2, random_state=42, n_jobs = -1)\n",
        "\n",
        "rf_rand_ps.fit(x_combined_pca, y_combined_ps)\n",
        "print(rf_rand_ps.best_params_) #{'bootstrap': True, 'max_features': 'sqrt', 'min_samples_split': 2, 'max_depth': 30, 'n_estimators': 300, 'min_samples_leaf': 2}\n",
        "print(\"\\nTraining Results\")\n",
        "scoreRMSE(rf_rand_ps, x_train_pca, y_train, plot = False) \n",
        "print(\"\\nEvaluation Results\")\n",
        "scoreRMSE(rf_rand_ps, x_test_pca, y_test, plot = False)\n",
        "print (\"done learning\")"
      ],
      "execution_count": 0,
      "outputs": []
    },
    {
      "cell_type": "code",
      "metadata": {
        "id": "v5wYDu7pYGu-",
        "colab_type": "code",
        "colab": {}
      },
      "source": [
        ""
      ],
      "execution_count": 0,
      "outputs": []
    },
    {
      "cell_type": "markdown",
      "metadata": {
        "id": "3WZCQpXyLL3f",
        "colab_type": "text"
      },
      "source": [
        "## Unsupervised: Clustering"
      ]
    },
    {
      "cell_type": "code",
      "metadata": {
        "id": "EjE6Iol1LP-e",
        "colab_type": "code",
        "outputId": "7aafc2d7-12ae-49f1-855f-cb76e2a28e3f",
        "colab": {
          "base_uri": "https://localhost:8080/",
          "height": 823
        }
      },
      "source": [
        "from sklearn.cluster import KMeans\n",
        "from sklearn.datasets import make_blobs\n",
        "import matplotlib.pyplot as plt\n",
        "import random\n",
        "\n",
        "# Generating random locations of patients on 2D map...\n",
        "patient_num = 200\n",
        "c = random.randint(1,patient_num)\n",
        "\n",
        "X, y = make_blobs(\n",
        "   n_samples=patient_num, n_features=2,\n",
        "   centers=c, cluster_std=0.5,\n",
        "   shuffle=True, random_state=0\n",
        ")\n",
        "\n",
        "plt.title(\"Patient Locations\")\n",
        "plt.scatter(\n",
        "   X[:, 0], X[:, 1],\n",
        "   c='white', marker='o',\n",
        "   edgecolor='black', s=50\n",
        ")\n",
        "plt.show()\n",
        "\n",
        "SSE = []\n",
        "models = []\n",
        "\n",
        "# Find best cluster number and locations\n",
        "max_cluster_count = 50\n",
        "for k in range(2, max_cluster_count):\n",
        "  km = KMeans(\n",
        "    n_clusters=k, init='random',\n",
        "    n_init=10, max_iter=300, \n",
        "    tol=1e-04, random_state=0\n",
        "  )\n",
        "  y_km = km.fit_predict(X)\n",
        "  SSE.append(km.inertia_)\n",
        "  models.append((y_km, km))\n",
        "\n",
        "# Plotting the within cluster SSE\n",
        "plt.title(\"Elbow Method\")\n",
        "plt.plot(range(2, max_cluster_count), SSE, marker='o')\n",
        "plt.xlabel('Number of clusters')\n",
        "plt.ylabel('Within-cluster SSE')\n",
        "plt.show()\n",
        "\n",
        "count = 9\n",
        "best = models[count]\n",
        "for m in range(count):\n",
        "  plt.scatter(\n",
        "    X[models[count][0] == m, 0], X[models[count][0] == m, 1],\n",
        "    s=50, edgecolor='black',\n",
        "    label='cluster '+str(m)\n",
        "  ) \n",
        "  plt.scatter(\n",
        "    models[count][1].cluster_centers_[:, 0], models[count][1].cluster_centers_[:, 1],\n",
        "    s=250, marker='*',\n",
        "    c='red', edgecolor='black'\n",
        "  )\n",
        "#plt.legend(scatterpoints=1)\n",
        "plt.title(\"Rehab Center and Patient Locations\")\n",
        "plt.grid()\n",
        "plt.show()"
      ],
      "execution_count": 32,
      "outputs": [
        {
          "output_type": "display_data",
          "data": {
            "image/png": "[encoded data removed]",
            "text/plain": [
              "<Figure size 432x288 with 1 Axes>"
            ]
          },
          "metadata": {
            "tags": []
          }
        },
        {
          "output_type": "display_data",
          "data": {
            "image/png": "[encoded data removed]",
            "text/plain": [
              "<Figure size 432x288 with 1 Axes>"
            ]
          },
          "metadata": {
            "tags": []
          }
        },
        {
          "output_type": "display_data",
          "data": {
            "image/png": "[encoded data removed]",
            "text/plain": [
              "<Figure size 432x288 with 1 Axes>"
            ]
          },
          "metadata": {
            "tags": []
          }
        }
      ]
    },
    {
      "cell_type": "code",
      "metadata": {
        "id": "6Fxh3-S4S5TP",
        "colab_type": "code",
        "colab": {}
      },
      "source": [
        ""
      ],
      "execution_count": 0,
      "outputs": []
    }
  ]
}
