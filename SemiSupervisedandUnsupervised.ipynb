{
  "nbformat": 4,
  "nbformat_minor": 0,
  "metadata": {
    "colab": {
      "name": "SemiSupervisedandUnsupervised.ipynb",
      "provenance": [],
      "collapsed_sections": [],
      "toc_visible": true
    },
    "kernelspec": {
      "name": "python3",
      "display_name": "Python 3"
    }
  },
  "cells": [
    {
      "cell_type": "markdown",
      "metadata": {
        "id": "XfeiFv_FQZE6",
        "colab_type": "text"
      },
      "source": [
        "# Unsupervised Learning and Semi-Supervised Models\n",
        "Working with unlabeled and semi-labeled patient data since we cannot assume most clients have chosen a desired clinic to frequent."
      ]
    },
    {
      "cell_type": "code",
      "metadata": {
        "id": "UuNSIMSvQM9n",
        "colab_type": "code",
        "outputId": "bfb3dda8-f326-4c66-d644-2ae45529e585",
        "colab": {
          "base_uri": "https://localhost:8080/",
          "height": 80
        }
      },
      "source": [
        "# Import libraries\n",
        "import numpy as np\n",
        "import pandas as pd\n",
        "from sklearn import metrics\n",
        "from sklearn.metrics import mean_squared_error\n",
        "import matplotlib\n",
        "import matplotlib.pyplot as plt\n",
        "import matplotlib.cm as cmx\n",
        "import matplotlib.colors as colors\n",
        "import scipy as sp\n",
        "%matplotlib inline\n",
        "\n",
        "from collections import Counter\n",
        "\n",
        "from sklearn.model_selection import KFold\n",
        "from sklearn.model_selection import cross_val_score\n",
        "\n",
        "from sklearn.linear_model import LogisticRegression\n",
        "from sklearn.linear_model import LogisticRegressionCV\n",
        "from sklearn.svm import SVC\n",
        "from sklearn.naive_bayes import MultinomialNB\n",
        "from sklearn.ensemble import RandomForestClassifier\n",
        "from sklearn.neighbors import KNeighborsClassifier as KNN\n",
        "\n",
        "from sklearn.decomposition import PCA\n",
        "\n",
        "import xgboost as xgb\n",
        "from xgboost import XGBClassifier\n",
        "\n",
        "from sklearn.model_selection import RandomizedSearchCV\n",
        "\n",
        "# Keras neural net imports\n",
        "from keras.models import Sequential\n",
        "from keras.layers import Dense, Dropout, Activation, Flatten\n",
        "from keras.utils import np_utils\n",
        "from keras.wrappers.scikit_learn import KerasClassifier\n",
        "from keras.layers.convolutional import Convolution1D\n",
        "\n",
        "# libraries for boosting\n",
        "import xgboost as xgb\n",
        "from xgboost.sklearn import XGBClassifier\n",
        "from sklearn.model_selection import GridSearchCV\n",
        "from sklearn.model_selection import train_test_split"
      ],
      "execution_count": 0,
      "outputs": [
        {
          "output_type": "stream",
          "text": [
            "Using TensorFlow backend.\n"
          ],
          "name": "stderr"
        },
        {
          "output_type": "display_data",
          "data": {
            "text/html": [
              "<p style=\"color: red;\">\n",
              "The default version of TensorFlow in Colab will soon switch to TensorFlow 2.x.<br>\n",
              "We recommend you <a href=\"https://www.tensorflow.org/guide/migrate\" target=\"_blank\">upgrade</a> now \n",
              "or ensure your notebook will continue to use TensorFlow 1.x via the <code>%tensorflow_version 1.x</code> magic:\n",
              "<a href=\"https://colab.research.google.com/notebooks/tensorflow_version.ipynb\" target=\"_blank\">more info</a>.</p>\n"
            ],
            "text/plain": [
              "<IPython.core.display.HTML object>"
            ]
          },
          "metadata": {
            "tags": []
          }
        }
      ]
    },
    {
      "cell_type": "markdown",
      "metadata": {
        "id": "rbDkZftCQtmg",
        "colab_type": "text"
      },
      "source": [
        "## Preprocessing\n",
        "Make sure data are in the directory"
      ]
    },
    {
      "cell_type": "code",
      "metadata": {
        "id": "ay0NFvWsQqMo",
        "colab_type": "code",
        "colab": {}
      },
      "source": [
        "# Load training and test sets in current working directory\n",
        "x_train = pd.read_csv(\"x_train.csv\").drop('Unnamed: 0', axis=1)\n",
        "# get rid of unnamed first column and unravel (n,1) into dim (n,)\n",
        "y_train = pd.read_csv(\"y_train.csv\").drop('Unnamed: 0', axis=1).values.ravel()\n",
        "x_test = pd.read_csv(\"x_test.csv\").drop('Unnamed: 0', axis=1)\n",
        "y_test = pd.read_csv(\"y_test.csv\").drop('Unnamed: 0', axis=1).values.ravel()"
      ],
      "execution_count": 0,
      "outputs": []
    },
    {
      "cell_type": "code",
      "metadata": {
        "id": "9QVVE3QhSsoX",
        "colab_type": "code",
        "colab": {}
      },
      "source": [
        "x_combined = pd.concat([x_train,x_test], axis=0)"
      ],
      "execution_count": 0,
      "outputs": []
    },
    {
      "cell_type": "code",
      "metadata": {
        "id": "NMM91JRGQ5nZ",
        "colab_type": "code",
        "colab": {}
      },
      "source": [
        "f_x_train = pd.read_csv(\"filtered_x_train.csv\").drop('Unnamed: 0', axis=1)\n",
        "f_x_test = pd.read_csv(\"filtered_x_test.csv\").drop('Unnamed: 0', axis=1)"
      ],
      "execution_count": 0,
      "outputs": []
    },
    {
      "cell_type": "code",
      "metadata": {
        "id": "rRmhPMriQ9vN",
        "colab_type": "code",
        "colab": {}
      },
      "source": [
        "import time\n",
        "import math\n",
        "\n",
        "\n",
        "def asMinutes(s):\n",
        "    m = math.floor(s / 60)\n",
        "    s -= m * 60\n",
        "    return '%dm %ds' % (m, s)\n",
        "\n",
        "\n",
        "def timeSince(since):\n",
        "    now = time.time()\n",
        "    s = now - since\n",
        "    return 'Time elapsed: %s (%s to %s)' % (asMinutes(s), asMinutes(since), asMinutes(now))"
      ],
      "execution_count": 0,
      "outputs": []
    },
    {
      "cell_type": "code",
      "metadata": {
        "id": "uqqbiIlCRJrg",
        "colab_type": "code",
        "colab": {}
      },
      "source": [
        "def scoreRMSE(predictor, X, true_y, plot = True):\n",
        "    '''\n",
        "    function to compute root mean squared error as well as prediction accuracy\n",
        "\n",
        "    @args:\n",
        "        predictor: model\n",
        "        X: test input data\n",
        "        true_y: true y labels for test data\n",
        "        plot: only for boosting, plots f-scores for each booster\n",
        "    '''\n",
        "    predictions = predictor.predict(X)\n",
        "    print(\"\\nModel Report\")\n",
        "    print (\"RMSE Score : %f\" % np.sqrt(mean_squared_error(predictions, true_y)))\n",
        "    accuracy = metrics.accuracy_score(predictions, true_y) * 100\n",
        "    print(\"Accuracy : %.4g\" % accuracy, '%')         \n",
        "\n",
        "    if plot:\n",
        "        # Print f-score:    \n",
        "        feat_imp = pd.Series(predictor.get_booster().get_fscore()).sort_values(ascending=False)\n",
        "        feat_imp.plot(kind='bar', title='f-score', figsize = (20, 10))\n",
        "        plt.ylabel('f-score')"
      ],
      "execution_count": 0,
      "outputs": []
    },
    {
      "cell_type": "code",
      "metadata": {
        "id": "mcSMvralRN_A",
        "colab_type": "code",
        "colab": {}
      },
      "source": [
        ""
      ],
      "execution_count": 0,
      "outputs": []
    },
    {
      "cell_type": "markdown",
      "metadata": {
        "id": "BBjYHW-EROTY",
        "colab_type": "text"
      },
      "source": [
        "## Semisupervised: PCA\n",
        "Perform PCA on labelled and unlabelled data. Use the fitted PCA to transform labelled data, which is used as input for training."
      ]
    },
    {
      "cell_type": "code",
      "metadata": {
        "id": "KLRS2RO7RLgC",
        "colab_type": "code",
        "colab": {}
      },
      "source": [
        "n_components = 8\n",
        "pca = PCA(n_components=n_components, whiten=False)\n",
        "\n",
        "start = time.time()\n",
        "\n",
        "# fit using all input data\n",
        "pca.fit(x_combined)\n",
        "\n",
        "# generate transformed projections for combined x, x_train, and x_test\n",
        "x_pca = pca.transform(x_train)\n",
        "x_train_pca = pd.DataFrame(x_pca)\n",
        "x_pca = pca.transform(x_test)\n",
        "x_test_pca = pd.DataFrame(x_pca)\n",
        "x_pca = pca.transform(x_combined)\n",
        "x_combined_pca = pd.DataFrame(x_pca)"
      ],
      "execution_count": 0,
      "outputs": []
    },
    {
      "cell_type": "code",
      "metadata": {
        "id": "PXpKH7cvRPFl",
        "colab_type": "code",
        "colab": {}
      },
      "source": [
        "plt.figure()\n",
        "plt.plot(np.cumsum(pca.explained_variance_ratio_))\n",
        "plt.xlabel('Number of Components')\n",
        "plt.ylabel('Variance (%)')\n",
        "plt.title('Dataset Explained Variance')\n",
        "plt.show()"
      ],
      "execution_count": 0,
      "outputs": []
    },
    {
      "cell_type": "markdown",
      "metadata": {
        "id": "ws233EuLTsNB",
        "colab_type": "text"
      },
      "source": [
        "### Supervised Training on PCA projections"
      ]
    },
    {
      "cell_type": "code",
      "metadata": {
        "id": "Le6OQZl1SaU-",
        "colab_type": "code",
        "colab": {}
      },
      "source": [
        "from sklearn.ensemble import RandomForestRegressor\n",
        "from sklearn.model_selection import RandomizedSearchCV\n",
        "\n",
        "\n",
        "# Number of trees in random forest\n",
        "n_estimators = n_estimators = list(range(10, 100, 10))\n",
        "\n",
        "# Number of features to consider at every split\n",
        "max_features = ['auto', 'sqrt']\n",
        "# Maximum number of levels in tree\n",
        "max_depth = list(range(10, 30, 10))\n",
        "max_depth.append(None)\n",
        "# Minimum number of samples required to split a node\n",
        "min_samples_split = [2, 5, 10]\n",
        "# Minimum number of samples required at each leaf node\n",
        "min_samples_leaf = [1, 2, 4]\n",
        "# Method of selecting samples for training each tree\n",
        "bootstrap = [True, False]\n",
        "\n",
        "random_grid = {'n_estimators': n_estimators,\n",
        "               'max_features': max_features,\n",
        "               'max_depth': max_depth,\n",
        "               'min_samples_split': min_samples_split,\n",
        "               'min_samples_leaf': min_samples_leaf,\n",
        "               'bootstrap': bootstrap}"
      ],
      "execution_count": 0,
      "outputs": []
    },
    {
      "cell_type": "code",
      "metadata": {
        "id": "ryMf3xWoTKSP",
        "colab_type": "code",
        "colab": {}
      },
      "source": [
        "print (\"learning...\")\n",
        "rfc = RandomForestClassifier(min_samples_split=10)\n",
        "rf_random = RandomizedSearchCV(estimator = rfc, param_distributions = random_grid, n_iter = 100, cv = 5, verbose=2, random_state=42, n_jobs = -1)\n",
        "\n",
        "rf_random.fit(x_train_pca, y_train)\n",
        "print(rf_random.best_params_) #{'bootstrap': True, 'max_features': 'sqrt', 'min_samples_split': 2, 'max_depth': 30, 'n_estimators': 300, 'min_samples_leaf': 2}\n",
        "print(\"\\nTraining Results\")\n",
        "scoreRMSE(rf_random, x_train_pca, y_train, plot = False) \n",
        "print(\"\\nEvaluation Results\")\n",
        "scoreRMSE(rf_random, x_test_pca, y_test, plot = False)\n",
        "print (\"done learning\")"
      ],
      "execution_count": 0,
      "outputs": []
    },
    {
      "cell_type": "code",
      "metadata": {
        "id": "ui0gAOkeT43y",
        "colab_type": "code",
        "colab": {}
      },
      "source": [
        ""
      ],
      "execution_count": 0,
      "outputs": []
    },
    {
      "cell_type": "markdown",
      "metadata": {
        "id": "PMkFE6-GVIDZ",
        "colab_type": "text"
      },
      "source": [
        "## Active Learning/Pseudo-labeling\n",
        "Train supervised model on labelled data to provide pseudo-labels for unlabelled data. Then train a fresh model on the combined labelled and pseudo-labeled data"
      ]
    },
    {
      "cell_type": "code",
      "metadata": {
        "id": "KRRW7YNHVGyZ",
        "colab_type": "code",
        "colab": {}
      },
      "source": [
        "# we build off of our PCA work and use pca data\n",
        "\n",
        "# pseudo labels predicted by model\n",
        "y_test_ps = rf_random.predict(x_test_pca)\n",
        "\n",
        "# concat labelled and model-labelled data\n",
        "y_combined_ps = np.concatenate([y_train,y_test_ps], axis=0)"
      ],
      "execution_count": 0,
      "outputs": []
    },
    {
      "cell_type": "code",
      "metadata": {
        "id": "MfymZAd1WmAR",
        "colab_type": "code",
        "colab": {}
      },
      "source": [
        "from sklearn.ensemble import RandomForestRegressor\n",
        "from sklearn.model_selection import RandomizedSearchCV\n",
        "\n",
        "\n",
        "# Number of trees in random forest\n",
        "n_estimators = n_estimators = list(range(10, 100, 10))\n",
        "\n",
        "# Number of features to consider at every split\n",
        "max_features = ['auto', 'sqrt']\n",
        "# Maximum number of levels in tree\n",
        "max_depth = list(range(10, 30, 10))\n",
        "max_depth.append(None)\n",
        "# Minimum number of samples required to split a node\n",
        "min_samples_split = [2, 5, 10]\n",
        "# Minimum number of samples required at each leaf node\n",
        "min_samples_leaf = [1, 2, 4]\n",
        "# Method of selecting samples for training each tree\n",
        "bootstrap = [True, False]\n",
        "\n",
        "random_grid = {'n_estimators': n_estimators,\n",
        "               'max_features': max_features,\n",
        "               'max_depth': max_depth,\n",
        "               'min_samples_split': min_samples_split,\n",
        "               'min_samples_leaf': min_samples_leaf,\n",
        "               'bootstrap': bootstrap}"
      ],
      "execution_count": 0,
      "outputs": []
    },
    {
      "cell_type": "code",
      "metadata": {
        "id": "eUep3LwMXAbR",
        "colab_type": "code",
        "colab": {}
      },
      "source": [
        "print (\"learning...\")\n",
        "rfc = RandomForestClassifier(min_samples_split=10)\n",
        "rf_rand_ps = RandomizedSearchCV(estimator = rfc, param_distributions = random_grid, n_iter = 100, cv = 5, verbose=2, random_state=42, n_jobs = -1)\n",
        "\n",
        "rf_rand_ps.fit(x_combined_pca, y_combined_ps)\n",
        "print(rf_rand_ps.best_params_) #{'bootstrap': True, 'max_features': 'sqrt', 'min_samples_split': 2, 'max_depth': 30, 'n_estimators': 300, 'min_samples_leaf': 2}\n",
        "print(\"\\nTraining Results\")\n",
        "scoreRMSE(rf_rand_ps, x_train_pca, y_train, plot = False) \n",
        "print(\"\\nEvaluation Results\")\n",
        "scoreRMSE(rf_rand_ps, x_test_pca, y_test, plot = False)\n",
        "print (\"done learning\")"
      ],
      "execution_count": 0,
      "outputs": []
    },
    {
      "cell_type": "code",
      "metadata": {
        "id": "v5wYDu7pYGu-",
        "colab_type": "code",
        "colab": {}
      },
      "source": [
        ""
      ],
      "execution_count": 0,
      "outputs": []
    },
    {
      "cell_type": "markdown",
      "metadata": {
        "id": "3WZCQpXyLL3f",
        "colab_type": "text"
      },
      "source": [
        "## Unsupervised: Clustering"
      ]
    },
    {
      "cell_type": "code",
      "metadata": {
        "id": "EjE6Iol1LP-e",
        "colab_type": "code",
        "outputId": "d468e8bc-86f5-48d7-e673-c2c1be831757",
        "colab": {
          "base_uri": "https://localhost:8080/",
          "height": 1000
        }
      },
      "source": [
        "from sklearn.cluster import KMeans\n",
        "from sklearn.datasets import make_blobs\n",
        "\n",
        "print(x_combined)\n",
        "\n",
        "max_cluster_count = 4\n",
        "for k in range(3, max_cluster_count):\n",
        "  km = KMeans(\n",
        "    n_clusters=k, init='random',\n",
        "    n_init=10, max_iter=300, \n",
        "    tol=1e-04, random_state=0\n",
        "  )\n",
        "  y_km = km.fit_predict(x_combined)\n",
        "\n",
        "\n"
      ],
      "execution_count": 0,
      "outputs": [
        {
          "output_type": "stream",
          "text": [
            "[[ 2.60509732  1.22529553]\n",
            " [ 0.5323772   3.31338909]\n",
            " [ 0.802314    4.38196181]\n",
            " [ 0.5285368   4.49723858]\n",
            " [ 2.61858548  0.35769791]\n",
            " [ 1.59141542  4.90497725]\n",
            " [ 1.74265969  5.03846671]\n",
            " [ 2.37533328  0.08918564]\n",
            " [-2.12133364  2.66447408]\n",
            " [ 1.72039618  5.25173192]\n",
            " [ 3.1368855   1.56592763]\n",
            " [-0.37494566  2.38787435]\n",
            " [-1.84562253  2.71924635]\n",
            " [ 0.72144399  4.08475018]\n",
            " [ 0.16117091  4.53517846]\n",
            " [-1.99912714  2.71285741]\n",
            " [-1.47804153  3.2093591 ]\n",
            " [ 1.8706766   0.77797407]\n",
            " [-1.5933443   2.76898682]\n",
            " [ 2.03562611  0.31361691]\n",
            " [ 0.64003985  4.12401075]\n",
            " [ 2.4411628   1.30941574]\n",
            " [ 1.13280393  3.87673946]\n",
            " [ 1.04829186  5.03092408]\n",
            " [-1.26637157  2.62998828]\n",
            " [ 2.31690585  0.81189049]\n",
            " [ 2.36230721  1.358767  ]\n",
            " [ 1.2091013   3.53566548]\n",
            " [-2.54224625  3.95012869]\n",
            " [ 1.4815332   0.67875364]\n",
            " [-1.59487886  3.48632794]\n",
            " [-1.82556205  2.7989214 ]\n",
            " [-1.13374003  2.68467271]\n",
            " [-1.758702    3.158623  ]\n",
            " [ 0.3498724   4.69253251]\n",
            " [ 1.68548602  1.66917096]\n",
            " [ 2.989047    1.35068599]\n",
            " [ 1.73734448  1.23588031]\n",
            " [ 0.65910903  4.12241674]\n",
            " [ 1.15445328  4.65707391]\n",
            " [-1.32738084  1.53158588]\n",
            " [-1.6814105   2.07988036]\n",
            " [ 0.34102758  4.78848568]\n",
            " [ 1.87827057  0.21018801]\n",
            " [ 2.13860427  1.21517938]\n",
            " [ 2.48368283  0.57215086]\n",
            " [-1.18113464  3.26525683]\n",
            " [ 2.11114739  3.57660449]\n",
            " [-1.19371247  2.68752237]\n",
            " [ 1.45131429  4.22810872]\n",
            " [ 1.83769075  1.82229552]\n",
            " [ 0.44089377  4.83101319]\n",
            " [ 1.08040757  4.79210685]\n",
            " [ 1.84845803  0.52393625]\n",
            " [ 2.3914149   1.10139458]\n",
            " [-1.44865074  3.03397278]\n",
            " [ 0.72086751  3.71347124]\n",
            " [ 3.01673853  1.63792106]\n",
            " [-1.18199493  3.56880538]\n",
            " [ 1.34081536  4.36827878]\n",
            " [-2.31837321  3.22307195]\n",
            " [-0.54894786  3.11292892]\n",
            " [-1.6823471   2.96658234]\n",
            " [-1.53541422  3.10745813]\n",
            " [ 1.06498315  4.10289686]\n",
            " [-0.39724954  2.89675369]\n",
            " [ 1.03972612  4.50478201]\n",
            " [ 1.62465468  1.85269614]\n",
            " [-0.30022483  4.63059663]\n",
            " [ 0.12313498  5.27917503]\n",
            " [ 1.54597042  3.68637442]\n",
            " [ 1.44254976  1.31984515]\n",
            " [ 2.52889351  0.82015861]\n",
            " [ 0.38970838  5.27559792]\n",
            " [ 1.5381461   1.23846092]\n",
            " [ 0.82049381  4.33187   ]\n",
            " [ 1.56565986  4.21382491]\n",
            " [-1.93358614  2.1846701 ]\n",
            " [-1.38373217  3.22230418]\n",
            " [ 0.96217896  4.51795326]\n",
            " [ 1.71810119  0.91357894]\n",
            " [ 1.65356269  0.55288877]\n",
            " [ 0.4519936   3.59377836]\n",
            " [ 1.19820169  4.47062449]\n",
            " [ 2.20438661  1.56085661]\n",
            " [ 3.24683991  1.3699034 ]\n",
            " [ 2.51569693  1.05702749]\n",
            " [-1.79833475  3.12590728]\n",
            " [-2.0495307   3.52345491]\n",
            " [ 2.36788325  0.09663483]\n",
            " [ 2.24348029  0.34796326]\n",
            " [ 0.99914934  4.2101954 ]\n",
            " [ 1.30963873  1.11735951]\n",
            " [ 0.77468161  4.91500986]\n",
            " [ 1.70798359  0.82284639]\n",
            " [ 1.91784543  3.6299078 ]\n",
            " [-2.00487651  2.74489137]\n",
            " [-2.10499523  3.30848131]\n",
            " [ 1.39731382  0.66687136]\n",
            " [ 2.02114672  1.75433502]\n",
            " [ 1.67030948  1.16728826]\n",
            " [ 2.52997792  0.94143928]\n",
            " [-2.18016744  3.7469476 ]\n",
            " [ 2.00604126  0.56592452]\n",
            " [ 1.50307585  0.9237462 ]\n",
            " [ 1.05374379  4.49286859]\n",
            " [-1.72662853  3.10291021]\n",
            " [ 1.72330962  4.2012082 ]\n",
            " [ 0.92466065  4.50908658]\n",
            " [ 0.39369516  4.75420057]\n",
            " [-1.31377465  3.25633628]\n",
            " [ 0.78260667  4.15263595]\n",
            " [ 1.82750127  0.90640324]\n",
            " [-1.2649585   2.9620933 ]\n",
            " [ 0.98152009  5.19672257]\n",
            " [-2.49504392  3.01227156]\n",
            " [ 1.00952869  4.45502328]\n",
            " [ 1.40848818  3.93270482]\n",
            " [-1.28003312  2.85983029]\n",
            " [-1.82506103  2.89159861]\n",
            " [ 0.5408715   4.0143625 ]\n",
            " [ 2.64928242  1.05613497]\n",
            " [ 0.5226209   4.32976003]\n",
            " [ 0.16932115  4.19741719]\n",
            " [ 1.8062513   1.86242969]\n",
            " [ 1.92126584  1.29889186]\n",
            " [-1.53906708  2.54886681]\n",
            " [ 1.68289011  0.48444439]\n",
            " [-2.29730252  2.94951326]\n",
            " [-1.45592743  2.75821805]\n",
            " [-1.38694171  2.86880707]\n",
            " [-1.07181456  3.07649137]\n",
            " [ 1.40883907  1.03118909]\n",
            " [-1.58598604  2.57779316]\n",
            " [-1.58217434  3.42796862]\n",
            " [-0.77966174  1.88288975]\n",
            " [ 0.56969694  3.44064603]\n",
            " [-1.8531083   2.72240557]\n",
            " [ 1.59885641  1.4561718 ]\n",
            " [-1.84094779  2.6773687 ]\n",
            " [ 1.35678894  4.36462484]\n",
            " [ 1.1774409   3.96138228]\n",
            " [ 1.73345832 -0.21403792]\n",
            " [ 2.34356293  0.79351428]\n",
            " [-0.95073823  3.45769156]\n",
            " [-2.23893447  2.67122232]\n",
            " [-1.87292894  3.68607079]\n",
            " [-1.8897027   2.22620028]\n",
            " [ 2.25327088  0.35113291]\n",
            " [ 1.55515985  0.12527811]]\n",
            "    Unnamed: 0.1   age  sex  ...          28          29          30\n",
            "0              0  28.0  1.0  ...  531.672832  319.363429  694.398301\n",
            "1              1  29.0  1.0  ...  216.316897  351.573605  262.480475\n",
            "2              2  29.0  1.0  ...  790.977244  502.674845  457.482240\n",
            "3              3  30.0  0.0  ...  135.484316  433.761455  432.611835\n",
            "4              4  31.0  0.0  ...  306.806128  159.765453  224.207493\n",
            "..           ...   ...  ...  ...         ...         ...         ...\n",
            "69           289  52.0  1.0  ...  607.220718  279.692688  579.054402\n",
            "70           290  54.0  0.0  ...  810.456661  491.757054  778.607090\n",
            "71           291  56.0  1.0  ...  278.890660  188.904738  525.205674\n",
            "72           292  58.0  0.0  ...  789.496675  613.157402  343.700451\n",
            "73           293  65.0  1.0  ...  780.021795  450.058885  556.367684\n",
            "\n",
            "[294 rows x 46 columns]\n"
          ],
          "name": "stdout"
        }
      ]
    },
    {
      "cell_type": "code",
      "metadata": {
        "id": "6Fxh3-S4S5TP",
        "colab_type": "code",
        "colab": {}
      },
      "source": [
        ""
      ],
      "execution_count": 0,
      "outputs": []
    }
  ]
}