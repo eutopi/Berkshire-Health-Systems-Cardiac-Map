{
  "nbformat": 4,
  "nbformat_minor": 0,
  "metadata": {
    "colab": {
      "name": "FeatureSelection/Extraction.ipynb",
      "provenance": [],
      "collapsed_sections": [],
      "toc_visible": true
    },
    "kernelspec": {
      "name": "python3",
      "display_name": "Python 3"
    }
  },
  "cells": [
    {
      "cell_type": "markdown",
      "metadata": {
        "id": "ACbDzrJkxCC9",
        "colab_type": "text"
      },
      "source": [
        "# Feature Extraction and Selection\n",
        "Data cleanup, extract useful features to use as training data, filter and lower dimensionality"
      ]
    },
    {
      "cell_type": "code",
      "metadata": {
        "id": "G2gG_6dfw6Oz",
        "colab_type": "code",
        "colab": {}
      },
      "source": [
        "# Import libraries\n",
        "import numpy as np\n",
        "import pandas as pd\n",
        "import matplotlib\n",
        "import matplotlib.pyplot as plt\n",
        "%matplotlib inline\n",
        "\n",
        "from collections import Counter\n",
        "\n",
        "from sklearn.decomposition import PCA\n",
        "from sklearn.feature_selection import mutual_info_regression"
      ],
      "execution_count": 0,
      "outputs": []
    },
    {
      "cell_type": "code",
      "metadata": {
        "id": "mVet8lw4E6v7",
        "colab_type": "code",
        "colab": {}
      },
      "source": [
        "clinics = pd.read_csv('clinics.csv')\n",
        "patients = pd.read_csv('patients.csv')\n",
        "matchings = pd.read_csv('matchings.csv')"
      ],
      "execution_count": 0,
      "outputs": []
    },
    {
      "cell_type": "code",
      "metadata": {
        "id": "m2-StfCbFyB8",
        "colab_type": "code",
        "colab": {}
      },
      "source": [
        "# split data for training/testing\n",
        "train_test_sp = 220\n",
        "x_train = patients.iloc[:train_test_sp]\n",
        "y_train = matchings.iloc[:train_test_sp]\n",
        "x_test = patients.iloc[train_test_sp:]\n",
        "y_test = matchings.iloc[train_test_sp:]\n",
        "\n",
        "y_train=y_train.drop('Unnamed: 0', axis=1)\n",
        "y_test=y_test.drop('Unnamed: 0', axis=1)\n",
        "x_train = x_train.fillna(0)\n",
        "x_test = x_test.fillna(0)\n",
        "\n",
        "x_train.to_csv(\"x_train.csv\")\n",
        "y_train.to_csv(\"y_train.csv\")\n",
        "x_test.to_csv(\"x_test.csv\")\n",
        "y_test.to_csv(\"y_test.csv\")\n",
        "assert len(x_train) == len(y_train)\n",
        "assert len(x_test) == len(y_test)"
      ],
      "execution_count": 0,
      "outputs": []
    },
    {
      "cell_type": "code",
      "metadata": {
        "id": "gW_TZ3BMK3CG",
        "colab_type": "code",
        "colab": {
          "base_uri": "https://localhost:8080/",
          "height": 419
        },
        "outputId": "04555e11-0a63-4f44-f108-ae3f32c692eb"
      },
      "source": [
        "y_train"
      ],
      "execution_count": 144,
      "outputs": [
        {
          "output_type": "execute_result",
          "data": {
            "text/html": [
              "<div>\n",
              "<style scoped>\n",
              "    .dataframe tbody tr th:only-of-type {\n",
              "        vertical-align: middle;\n",
              "    }\n",
              "\n",
              "    .dataframe tbody tr th {\n",
              "        vertical-align: top;\n",
              "    }\n",
              "\n",
              "    .dataframe thead th {\n",
              "        text-align: right;\n",
              "    }\n",
              "</style>\n",
              "<table border=\"1\" class=\"dataframe\">\n",
              "  <thead>\n",
              "    <tr style=\"text-align: right;\">\n",
              "      <th></th>\n",
              "      <th>MatchedClinic</th>\n",
              "    </tr>\n",
              "  </thead>\n",
              "  <tbody>\n",
              "    <tr>\n",
              "      <th>0</th>\n",
              "      <td>2</td>\n",
              "    </tr>\n",
              "    <tr>\n",
              "      <th>1</th>\n",
              "      <td>16</td>\n",
              "    </tr>\n",
              "    <tr>\n",
              "      <th>2</th>\n",
              "      <td>11</td>\n",
              "    </tr>\n",
              "    <tr>\n",
              "      <th>3</th>\n",
              "      <td>9</td>\n",
              "    </tr>\n",
              "    <tr>\n",
              "      <th>4</th>\n",
              "      <td>20</td>\n",
              "    </tr>\n",
              "    <tr>\n",
              "      <th>...</th>\n",
              "      <td>...</td>\n",
              "    </tr>\n",
              "    <tr>\n",
              "      <th>215</th>\n",
              "      <td>26</td>\n",
              "    </tr>\n",
              "    <tr>\n",
              "      <th>216</th>\n",
              "      <td>20</td>\n",
              "    </tr>\n",
              "    <tr>\n",
              "      <th>217</th>\n",
              "      <td>27</td>\n",
              "    </tr>\n",
              "    <tr>\n",
              "      <th>218</th>\n",
              "      <td>19</td>\n",
              "    </tr>\n",
              "    <tr>\n",
              "      <th>219</th>\n",
              "      <td>26</td>\n",
              "    </tr>\n",
              "  </tbody>\n",
              "</table>\n",
              "<p>220 rows × 1 columns</p>\n",
              "</div>"
            ],
            "text/plain": [
              "     MatchedClinic\n",
              "0                2\n",
              "1               16\n",
              "2               11\n",
              "3                9\n",
              "4               20\n",
              "..             ...\n",
              "215             26\n",
              "216             20\n",
              "217             27\n",
              "218             19\n",
              "219             26\n",
              "\n",
              "[220 rows x 1 columns]"
            ]
          },
          "metadata": {
            "tags": []
          },
          "execution_count": 144
        }
      ]
    },
    {
      "cell_type": "markdown",
      "metadata": {
        "id": "axCB1P8ovvm5",
        "colab_type": "text"
      },
      "source": [
        "## Utils"
      ]
    },
    {
      "cell_type": "code",
      "metadata": {
        "id": "ZD3f7BwFvaQ5",
        "colab_type": "code",
        "colab": {}
      },
      "source": [
        "import time\n",
        "import math\n",
        "\n",
        "\n",
        "def asMinutes(s):\n",
        "    m = math.floor(s / 60)\n",
        "    s -= m * 60\n",
        "    return '%dm %ds' % (m, s)\n",
        "\n",
        "\n",
        "def timeSince(since):\n",
        "    now = time.time()\n",
        "    s = now - since\n",
        "    return 'Time elapsed: %s (%s to %s)' % (asMinutes(s), asMinutes(since), asMinutes(now))"
      ],
      "execution_count": 0,
      "outputs": []
    },
    {
      "cell_type": "markdown",
      "metadata": {
        "id": "zSH1piZpvflX",
        "colab_type": "text"
      },
      "source": [
        "## Mutual info Regression\n",
        "Drop useless columns"
      ]
    },
    {
      "cell_type": "code",
      "metadata": {
        "id": "QNJHdhCEveOR",
        "colab_type": "code",
        "colab": {}
      },
      "source": [
        "def filter_features(X_train, y_train, X_test= None):\n",
        "    ''' \n",
        "    performs mutual info regression on training data to filter out\n",
        "    less useful features\n",
        "\n",
        "    @returns\n",
        "        filtered_trainingset: dataframe of filtered training data set\n",
        "        filtered_test: dataframe of filtered test data set\n",
        "    '''\n",
        "    X_train = X_train.fillna(0)\n",
        "    y_train = y_train.fillna(0)\n",
        "    mir = mutual_info_regression(X_train, y_train)\n",
        "    mirfeature_scores = sorted([(mir[i], i) for i in range(X_train.shape[1])])\n",
        "    filtered_features = [feature[1] for feature in mirfeature_scores if feature[0] > 0]\n",
        "    filtered_trainingset = X_train.iloc[:, filtered_features]\n",
        "    filtered_test = X_test.iloc[:, filtered_features] if X_test is not None else None\n",
        "    return filtered_trainingset, filtered_test"
      ],
      "execution_count": 0,
      "outputs": []
    },
    {
      "cell_type": "code",
      "metadata": {
        "id": "Vzog4RvAwQLa",
        "colab_type": "code",
        "colab": {}
      },
      "source": [
        "train_f, test_f = filter_features(x_train, y_train, x_test)\n",
        "train_f.to_csv(\"filtered_x_train.csv\")\n",
        "test_f.to_csv(\"filtered_x_test.csv\")"
      ],
      "execution_count": 0,
      "outputs": []
    },
    {
      "cell_type": "code",
      "metadata": {
        "id": "z03VKDfWwUSW",
        "colab_type": "code",
        "outputId": "13376f58-4475-406d-b85c-b2d4dca7670f",
        "colab": {
          "base_uri": "https://localhost:8080/",
          "height": 34
        }
      },
      "source": [
        "# reduced from 45 to 37 columns\n",
        "train_f.shape"
      ],
      "execution_count": 0,
      "outputs": [
        {
          "output_type": "execute_result",
          "data": {
            "text/plain": [
              "(220, 37)"
            ]
          },
          "metadata": {
            "tags": []
          },
          "execution_count": 106
        }
      ]
    },
    {
      "cell_type": "markdown",
      "metadata": {
        "id": "W0vObguly1aH",
        "colab_type": "text"
      },
      "source": [
        "# Principle Component Analysis"
      ]
    },
    {
      "cell_type": "code",
      "metadata": {
        "id": "uFfztgMcy4cW",
        "colab_type": "code",
        "colab": {}
      },
      "source": [
        "def run_PCA(x_train, n_components=6, x_test= None, saveto=\"pca_x_train.csv\"):\n",
        "    '''\n",
        "    Performs PCA on x_train\n",
        "\n",
        "    @returns \n",
        "        x_train_pca: pca training data DataFrame\n",
        "        pca: pca model\n",
        "        saveto: output filename for x_train_pca\n",
        "    '''\n",
        "    pca = PCA(n_components=n_components, whiten=False)\n",
        "\n",
        "    start = time.time()\n",
        "\n",
        "    pca.fit(x_train)\n",
        "    x_pca = pca.transform(x_train)\n",
        "    x_train_pca = pd.DataFrame(x_pca)\n",
        "\n",
        "    if saveto != \"\":\n",
        "        x_train_pca.to_csv(saveto)\n",
        "\n",
        "    x_test_pca = pd.DataFrame(pca.transform(x_test)) if x_test is not None else None\n",
        "\n",
        "    end = time.time()\n",
        "    elapsed = end - start\n",
        "    print('Fit time elapsed: {}'.format(elapsed))\n",
        "\n",
        "    if x_test_pca is not None:\n",
        "        x_test_pca.to_csv(\"pca_x_test.csv\")\n",
        "\n",
        "    return x_train_pca, pca, x_test_pca"
      ],
      "execution_count": 0,
      "outputs": []
    },
    {
      "cell_type": "code",
      "metadata": {
        "id": "D_p7rMPfCd2D",
        "colab_type": "code",
        "outputId": "4bede899-34af-4c1c-a8e1-d3a0877daf08",
        "colab": {
          "base_uri": "https://localhost:8080/",
          "height": 34
        }
      },
      "source": [
        "x_pca, pca_model, x_test_pca = run_PCA(x_train, x_test=x_test)"
      ],
      "execution_count": 151,
      "outputs": [
        {
          "output_type": "stream",
          "text": [
            "Fit time elapsed: 0.015213251113891602\n"
          ],
          "name": "stdout"
        }
      ]
    },
    {
      "cell_type": "code",
      "metadata": {
        "id": "lUqRt_RNAh0n",
        "colab_type": "code",
        "outputId": "77eea17c-f326-4615-be30-4311faab0ec7",
        "colab": {
          "base_uri": "https://localhost:8080/",
          "height": 295
        }
      },
      "source": [
        "plt.figure()\n",
        "plt.plot(np.cumsum(pca_model.explained_variance_ratio_))\n",
        "plt.xlabel('Number of Components')\n",
        "plt.ylabel('Variance (%)') #for each component\n",
        "plt.title('Dataset Explained Variance')\n",
        "plt.show()"
      ],
      "execution_count": 147,
      "outputs": [
        {
          "output_type": "display_data",
          "data": {
            "image/png": "[encoded data removed]",
            "text/plain": [
              "<Figure size 432x288 with 1 Axes>"
            ]
          },
          "metadata": {
            "tags": []
          }
        }
      ]
    },
    {
      "cell_type": "code",
      "metadata": {
        "id": "mg0xNOM8BJxi",
        "colab_type": "code",
        "outputId": "41e7bf14-8245-4d86-fb2c-20e53e7029fd",
        "colab": {
          "base_uri": "https://localhost:8080/",
          "height": 419
        }
      },
      "source": [
        "x_pca"
      ],
      "execution_count": 0,
      "outputs": [
        {
          "output_type": "execute_result",
          "data": {
            "text/html": [
              "<div>\n",
              "<style scoped>\n",
              "    .dataframe tbody tr th:only-of-type {\n",
              "        vertical-align: middle;\n",
              "    }\n",
              "\n",
              "    .dataframe tbody tr th {\n",
              "        vertical-align: top;\n",
              "    }\n",
              "\n",
              "    .dataframe thead th {\n",
              "        text-align: right;\n",
              "    }\n",
              "</style>\n",
              "<table border=\"1\" class=\"dataframe\">\n",
              "  <thead>\n",
              "    <tr style=\"text-align: right;\">\n",
              "      <th></th>\n",
              "      <th>0</th>\n",
              "      <th>1</th>\n",
              "      <th>2</th>\n",
              "      <th>3</th>\n",
              "      <th>4</th>\n",
              "      <th>5</th>\n",
              "    </tr>\n",
              "  </thead>\n",
              "  <tbody>\n",
              "    <tr>\n",
              "      <th>0</th>\n",
              "      <td>-57.068586</td>\n",
              "      <td>857.234258</td>\n",
              "      <td>-326.007646</td>\n",
              "      <td>-138.306951</td>\n",
              "      <td>99.816021</td>\n",
              "      <td>-82.180260</td>\n",
              "    </tr>\n",
              "    <tr>\n",
              "      <th>1</th>\n",
              "      <td>-1522.080588</td>\n",
              "      <td>209.256661</td>\n",
              "      <td>578.767747</td>\n",
              "      <td>145.586300</td>\n",
              "      <td>-105.167404</td>\n",
              "      <td>-9.352576</td>\n",
              "    </tr>\n",
              "    <tr>\n",
              "      <th>2</th>\n",
              "      <td>371.733915</td>\n",
              "      <td>-793.784478</td>\n",
              "      <td>112.972014</td>\n",
              "      <td>-20.085526</td>\n",
              "      <td>223.955528</td>\n",
              "      <td>-184.432096</td>\n",
              "    </tr>\n",
              "    <tr>\n",
              "      <th>3</th>\n",
              "      <td>-1551.881211</td>\n",
              "      <td>722.306822</td>\n",
              "      <td>928.522797</td>\n",
              "      <td>304.022549</td>\n",
              "      <td>53.151712</td>\n",
              "      <td>6.589133</td>\n",
              "    </tr>\n",
              "    <tr>\n",
              "      <th>4</th>\n",
              "      <td>-1220.002029</td>\n",
              "      <td>-232.291970</td>\n",
              "      <td>-211.120074</td>\n",
              "      <td>-1.157704</td>\n",
              "      <td>-118.292128</td>\n",
              "      <td>-47.520371</td>\n",
              "    </tr>\n",
              "    <tr>\n",
              "      <th>...</th>\n",
              "      <td>...</td>\n",
              "      <td>...</td>\n",
              "      <td>...</td>\n",
              "      <td>...</td>\n",
              "      <td>...</td>\n",
              "      <td>...</td>\n",
              "    </tr>\n",
              "    <tr>\n",
              "      <th>215</th>\n",
              "      <td>-310.589628</td>\n",
              "      <td>-627.729187</td>\n",
              "      <td>735.141177</td>\n",
              "      <td>-213.972863</td>\n",
              "      <td>-31.565189</td>\n",
              "      <td>18.722406</td>\n",
              "    </tr>\n",
              "    <tr>\n",
              "      <th>216</th>\n",
              "      <td>-1251.291174</td>\n",
              "      <td>-361.754250</td>\n",
              "      <td>172.165564</td>\n",
              "      <td>-88.868182</td>\n",
              "      <td>-200.583636</td>\n",
              "      <td>-16.967206</td>\n",
              "    </tr>\n",
              "    <tr>\n",
              "      <th>217</th>\n",
              "      <td>-1460.645273</td>\n",
              "      <td>277.297641</td>\n",
              "      <td>79.815921</td>\n",
              "      <td>205.658990</td>\n",
              "      <td>-28.907858</td>\n",
              "      <td>22.354075</td>\n",
              "    </tr>\n",
              "    <tr>\n",
              "      <th>218</th>\n",
              "      <td>564.044837</td>\n",
              "      <td>-689.451821</td>\n",
              "      <td>-217.973013</td>\n",
              "      <td>98.113121</td>\n",
              "      <td>136.227602</td>\n",
              "      <td>42.306382</td>\n",
              "    </tr>\n",
              "    <tr>\n",
              "      <th>219</th>\n",
              "      <td>-888.668279</td>\n",
              "      <td>-466.731718</td>\n",
              "      <td>775.795088</td>\n",
              "      <td>-232.838705</td>\n",
              "      <td>-181.818571</td>\n",
              "      <td>38.412715</td>\n",
              "    </tr>\n",
              "  </tbody>\n",
              "</table>\n",
              "<p>220 rows × 6 columns</p>\n",
              "</div>"
            ],
            "text/plain": [
              "               0           1           2           3           4           5\n",
              "0     -57.068586  857.234258 -326.007646 -138.306951   99.816021  -82.180260\n",
              "1   -1522.080588  209.256661  578.767747  145.586300 -105.167404   -9.352576\n",
              "2     371.733915 -793.784478  112.972014  -20.085526  223.955528 -184.432096\n",
              "3   -1551.881211  722.306822  928.522797  304.022549   53.151712    6.589133\n",
              "4   -1220.002029 -232.291970 -211.120074   -1.157704 -118.292128  -47.520371\n",
              "..           ...         ...         ...         ...         ...         ...\n",
              "215  -310.589628 -627.729187  735.141177 -213.972863  -31.565189   18.722406\n",
              "216 -1251.291174 -361.754250  172.165564  -88.868182 -200.583636  -16.967206\n",
              "217 -1460.645273  277.297641   79.815921  205.658990  -28.907858   22.354075\n",
              "218   564.044837 -689.451821 -217.973013   98.113121  136.227602   42.306382\n",
              "219  -888.668279 -466.731718  775.795088 -232.838705 -181.818571   38.412715\n",
              "\n",
              "[220 rows x 6 columns]"
            ]
          },
          "metadata": {
            "tags": []
          },
          "execution_count": 110
        }
      ]
    },
    {
      "cell_type": "code",
      "metadata": {
        "id": "rcIVQeklBXCh",
        "colab_type": "code",
        "colab": {}
      },
      "source": [
        ""
      ],
      "execution_count": 0,
      "outputs": []
    }
  ]
}